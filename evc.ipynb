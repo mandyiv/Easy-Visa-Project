{
 "cells": [
  {
   "cell_type": "code",
   "execution_count": 1,
   "id": "105502e3",
   "metadata": {},
   "outputs": [
    {
     "name": "stdout",
     "output_type": "stream",
     "text": [
      "Requirement already satisfied: xgboost in c:\\users\\amanda\\anaconda3\\lib\\site-packages (1.7.6)\n",
      "Requirement already satisfied: numpy in c:\\users\\amanda\\anaconda3\\lib\\site-packages (from xgboost) (1.20.1)\n",
      "Requirement already satisfied: scipy in c:\\users\\amanda\\anaconda3\\lib\\site-packages (from xgboost) (1.6.2)\n"
     ]
    }
   ],
   "source": [
    "# install XgBoost\n",
    "!pip install xgboost\n"
   ]
  },
  {
   "cell_type": "code",
   "execution_count": 2,
   "id": "ab0a9c05",
   "metadata": {
    "scrolled": true
   },
   "outputs": [],
   "source": [
    "import warnings\n",
    "\n",
    "warnings.filterwarnings(\"ignore\")\n",
    "\n",
    "import numpy as np\n",
    "import pandas as pd\n",
    "from sklearn.model_selection import train_test_split\n",
    "import matplotlib.pyplot as plt\n",
    "import seaborn as sns\n",
    "pd.set_option(\"display.max_columns\", None)\n",
    "pd.set_option(\"display.max_rows\", 100)\n",
    "from sklearn.ensemble import (\n",
    "    BaggingClassifier,\n",
    "    RandomForestClassifier,\n",
    "    AdaBoostClassifier,\n",
    "    GradientBoostingClassifier,\n",
    "    StackingClassifier,\n",
    ")\n",
    "\n",
    "from xgboost import XGBClassifier\n",
    "from sklearn.tree import DecisionTreeClassifier\n",
    "\n",
    "from sklearn import metrics\n",
    "from sklearn.metrics import (\n",
    "    confusion_matrix,\n",
    "    accuracy_score,\n",
    "    precision_score,\n",
    "    recall_score,\n",
    "    f1_score,\n",
    ")\n",
    "\n",
    "from sklearn.model_selection import GridSearchCV"
   ]
  },
  {
   "cell_type": "code",
   "execution_count": 3,
   "id": "955c0566",
   "metadata": {},
   "outputs": [],
   "source": [
    "data = pd.read_csv('..\\Downloads\\EasyVisa.csv')"
   ]
  },
  {
   "cell_type": "code",
   "execution_count": 4,
   "id": "ca9c6cb5",
   "metadata": {},
   "outputs": [
    {
     "data": {
      "text/html": [
       "<div>\n",
       "<style scoped>\n",
       "    .dataframe tbody tr th:only-of-type {\n",
       "        vertical-align: middle;\n",
       "    }\n",
       "\n",
       "    .dataframe tbody tr th {\n",
       "        vertical-align: top;\n",
       "    }\n",
       "\n",
       "    .dataframe thead th {\n",
       "        text-align: right;\n",
       "    }\n",
       "</style>\n",
       "<table border=\"1\" class=\"dataframe\">\n",
       "  <thead>\n",
       "    <tr style=\"text-align: right;\">\n",
       "      <th></th>\n",
       "      <th>case_id</th>\n",
       "      <th>continent</th>\n",
       "      <th>education_of_employee</th>\n",
       "      <th>has_job_experience</th>\n",
       "      <th>requires_job_training</th>\n",
       "      <th>no_of_employees</th>\n",
       "      <th>yr_of_estab</th>\n",
       "      <th>region_of_employment</th>\n",
       "      <th>prevailing_wage</th>\n",
       "      <th>unit_of_wage</th>\n",
       "      <th>full_time_position</th>\n",
       "      <th>case_status</th>\n",
       "    </tr>\n",
       "  </thead>\n",
       "  <tbody>\n",
       "    <tr>\n",
       "      <th>0</th>\n",
       "      <td>EZYV01</td>\n",
       "      <td>Asia</td>\n",
       "      <td>High School</td>\n",
       "      <td>N</td>\n",
       "      <td>N</td>\n",
       "      <td>14513</td>\n",
       "      <td>2007</td>\n",
       "      <td>West</td>\n",
       "      <td>592.2029</td>\n",
       "      <td>Hour</td>\n",
       "      <td>Y</td>\n",
       "      <td>Denied</td>\n",
       "    </tr>\n",
       "    <tr>\n",
       "      <th>1</th>\n",
       "      <td>EZYV02</td>\n",
       "      <td>Asia</td>\n",
       "      <td>Master's</td>\n",
       "      <td>Y</td>\n",
       "      <td>N</td>\n",
       "      <td>2412</td>\n",
       "      <td>2002</td>\n",
       "      <td>Northeast</td>\n",
       "      <td>83425.6500</td>\n",
       "      <td>Year</td>\n",
       "      <td>Y</td>\n",
       "      <td>Certified</td>\n",
       "    </tr>\n",
       "    <tr>\n",
       "      <th>2</th>\n",
       "      <td>EZYV03</td>\n",
       "      <td>Asia</td>\n",
       "      <td>Bachelor's</td>\n",
       "      <td>N</td>\n",
       "      <td>Y</td>\n",
       "      <td>44444</td>\n",
       "      <td>2008</td>\n",
       "      <td>West</td>\n",
       "      <td>122996.8600</td>\n",
       "      <td>Year</td>\n",
       "      <td>Y</td>\n",
       "      <td>Denied</td>\n",
       "    </tr>\n",
       "    <tr>\n",
       "      <th>3</th>\n",
       "      <td>EZYV04</td>\n",
       "      <td>Asia</td>\n",
       "      <td>Bachelor's</td>\n",
       "      <td>N</td>\n",
       "      <td>N</td>\n",
       "      <td>98</td>\n",
       "      <td>1897</td>\n",
       "      <td>West</td>\n",
       "      <td>83434.0300</td>\n",
       "      <td>Year</td>\n",
       "      <td>Y</td>\n",
       "      <td>Denied</td>\n",
       "    </tr>\n",
       "    <tr>\n",
       "      <th>4</th>\n",
       "      <td>EZYV05</td>\n",
       "      <td>Africa</td>\n",
       "      <td>Master's</td>\n",
       "      <td>Y</td>\n",
       "      <td>N</td>\n",
       "      <td>1082</td>\n",
       "      <td>2005</td>\n",
       "      <td>South</td>\n",
       "      <td>149907.3900</td>\n",
       "      <td>Year</td>\n",
       "      <td>Y</td>\n",
       "      <td>Certified</td>\n",
       "    </tr>\n",
       "    <tr>\n",
       "      <th>...</th>\n",
       "      <td>...</td>\n",
       "      <td>...</td>\n",
       "      <td>...</td>\n",
       "      <td>...</td>\n",
       "      <td>...</td>\n",
       "      <td>...</td>\n",
       "      <td>...</td>\n",
       "      <td>...</td>\n",
       "      <td>...</td>\n",
       "      <td>...</td>\n",
       "      <td>...</td>\n",
       "      <td>...</td>\n",
       "    </tr>\n",
       "    <tr>\n",
       "      <th>25475</th>\n",
       "      <td>EZYV25476</td>\n",
       "      <td>Asia</td>\n",
       "      <td>Bachelor's</td>\n",
       "      <td>Y</td>\n",
       "      <td>Y</td>\n",
       "      <td>2601</td>\n",
       "      <td>2008</td>\n",
       "      <td>South</td>\n",
       "      <td>77092.5700</td>\n",
       "      <td>Year</td>\n",
       "      <td>Y</td>\n",
       "      <td>Certified</td>\n",
       "    </tr>\n",
       "    <tr>\n",
       "      <th>25476</th>\n",
       "      <td>EZYV25477</td>\n",
       "      <td>Asia</td>\n",
       "      <td>High School</td>\n",
       "      <td>Y</td>\n",
       "      <td>N</td>\n",
       "      <td>3274</td>\n",
       "      <td>2006</td>\n",
       "      <td>Northeast</td>\n",
       "      <td>279174.7900</td>\n",
       "      <td>Year</td>\n",
       "      <td>Y</td>\n",
       "      <td>Certified</td>\n",
       "    </tr>\n",
       "    <tr>\n",
       "      <th>25477</th>\n",
       "      <td>EZYV25478</td>\n",
       "      <td>Asia</td>\n",
       "      <td>Master's</td>\n",
       "      <td>Y</td>\n",
       "      <td>N</td>\n",
       "      <td>1121</td>\n",
       "      <td>1910</td>\n",
       "      <td>South</td>\n",
       "      <td>146298.8500</td>\n",
       "      <td>Year</td>\n",
       "      <td>N</td>\n",
       "      <td>Certified</td>\n",
       "    </tr>\n",
       "    <tr>\n",
       "      <th>25478</th>\n",
       "      <td>EZYV25479</td>\n",
       "      <td>Asia</td>\n",
       "      <td>Master's</td>\n",
       "      <td>Y</td>\n",
       "      <td>Y</td>\n",
       "      <td>1918</td>\n",
       "      <td>1887</td>\n",
       "      <td>West</td>\n",
       "      <td>86154.7700</td>\n",
       "      <td>Year</td>\n",
       "      <td>Y</td>\n",
       "      <td>Certified</td>\n",
       "    </tr>\n",
       "    <tr>\n",
       "      <th>25479</th>\n",
       "      <td>EZYV25480</td>\n",
       "      <td>Asia</td>\n",
       "      <td>Bachelor's</td>\n",
       "      <td>Y</td>\n",
       "      <td>N</td>\n",
       "      <td>3195</td>\n",
       "      <td>1960</td>\n",
       "      <td>Midwest</td>\n",
       "      <td>70876.9100</td>\n",
       "      <td>Year</td>\n",
       "      <td>Y</td>\n",
       "      <td>Certified</td>\n",
       "    </tr>\n",
       "  </tbody>\n",
       "</table>\n",
       "<p>25480 rows × 12 columns</p>\n",
       "</div>"
      ],
      "text/plain": [
       "         case_id continent education_of_employee has_job_experience  \\\n",
       "0         EZYV01      Asia           High School                  N   \n",
       "1         EZYV02      Asia              Master's                  Y   \n",
       "2         EZYV03      Asia            Bachelor's                  N   \n",
       "3         EZYV04      Asia            Bachelor's                  N   \n",
       "4         EZYV05    Africa              Master's                  Y   \n",
       "...          ...       ...                   ...                ...   \n",
       "25475  EZYV25476      Asia            Bachelor's                  Y   \n",
       "25476  EZYV25477      Asia           High School                  Y   \n",
       "25477  EZYV25478      Asia              Master's                  Y   \n",
       "25478  EZYV25479      Asia              Master's                  Y   \n",
       "25479  EZYV25480      Asia            Bachelor's                  Y   \n",
       "\n",
       "      requires_job_training  no_of_employees  yr_of_estab  \\\n",
       "0                         N            14513         2007   \n",
       "1                         N             2412         2002   \n",
       "2                         Y            44444         2008   \n",
       "3                         N               98         1897   \n",
       "4                         N             1082         2005   \n",
       "...                     ...              ...          ...   \n",
       "25475                     Y             2601         2008   \n",
       "25476                     N             3274         2006   \n",
       "25477                     N             1121         1910   \n",
       "25478                     Y             1918         1887   \n",
       "25479                     N             3195         1960   \n",
       "\n",
       "      region_of_employment  prevailing_wage unit_of_wage full_time_position  \\\n",
       "0                     West         592.2029         Hour                  Y   \n",
       "1                Northeast       83425.6500         Year                  Y   \n",
       "2                     West      122996.8600         Year                  Y   \n",
       "3                     West       83434.0300         Year                  Y   \n",
       "4                    South      149907.3900         Year                  Y   \n",
       "...                    ...              ...          ...                ...   \n",
       "25475                South       77092.5700         Year                  Y   \n",
       "25476            Northeast      279174.7900         Year                  Y   \n",
       "25477                South      146298.8500         Year                  N   \n",
       "25478                 West       86154.7700         Year                  Y   \n",
       "25479              Midwest       70876.9100         Year                  Y   \n",
       "\n",
       "      case_status  \n",
       "0          Denied  \n",
       "1       Certified  \n",
       "2          Denied  \n",
       "3          Denied  \n",
       "4       Certified  \n",
       "...           ...  \n",
       "25475   Certified  \n",
       "25476   Certified  \n",
       "25477   Certified  \n",
       "25478   Certified  \n",
       "25479   Certified  \n",
       "\n",
       "[25480 rows x 12 columns]"
      ]
     },
     "execution_count": 4,
     "metadata": {},
     "output_type": "execute_result"
    }
   ],
   "source": [
    "data"
   ]
  },
  {
   "cell_type": "code",
   "execution_count": 5,
   "id": "901a1cf5",
   "metadata": {},
   "outputs": [
    {
     "name": "stdout",
     "output_type": "stream",
     "text": [
      "<class 'pandas.core.frame.DataFrame'>\n",
      "RangeIndex: 25480 entries, 0 to 25479\n",
      "Data columns (total 12 columns):\n",
      " #   Column                 Non-Null Count  Dtype  \n",
      "---  ------                 --------------  -----  \n",
      " 0   case_id                25480 non-null  object \n",
      " 1   continent              25480 non-null  object \n",
      " 2   education_of_employee  25480 non-null  object \n",
      " 3   has_job_experience     25480 non-null  object \n",
      " 4   requires_job_training  25480 non-null  object \n",
      " 5   no_of_employees        25480 non-null  int64  \n",
      " 6   yr_of_estab            25480 non-null  int64  \n",
      " 7   region_of_employment   25480 non-null  object \n",
      " 8   prevailing_wage        25480 non-null  float64\n",
      " 9   unit_of_wage           25480 non-null  object \n",
      " 10  full_time_position     25480 non-null  object \n",
      " 11  case_status            25480 non-null  object \n",
      "dtypes: float64(1), int64(2), object(9)\n",
      "memory usage: 2.3+ MB\n"
     ]
    }
   ],
   "source": [
    "data.info()"
   ]
  },
  {
   "cell_type": "markdown",
   "id": "9568fee4",
   "metadata": {},
   "source": [
    "There are 25480 rows and 12 colums in the dataset.\n",
    "The dataframe has no null value.\n",
    "Row 5 , 6 and 8 has numeric values."
   ]
  },
  {
   "cell_type": "code",
   "execution_count": 6,
   "id": "36d8733c",
   "metadata": {},
   "outputs": [
    {
     "data": {
      "text/plain": [
       "0"
      ]
     },
     "execution_count": 6,
     "metadata": {},
     "output_type": "execute_result"
    }
   ],
   "source": [
    "# checking for duplicate values\n",
    "data.duplicated().sum()"
   ]
  },
  {
   "cell_type": "markdown",
   "id": "f4520ecc",
   "metadata": {},
   "source": [
    "*there are no duplicate values"
   ]
  },
  {
   "cell_type": "code",
   "execution_count": 7,
   "id": "b5986674",
   "metadata": {},
   "outputs": [
    {
     "data": {
      "text/html": [
       "<div>\n",
       "<style scoped>\n",
       "    .dataframe tbody tr th:only-of-type {\n",
       "        vertical-align: middle;\n",
       "    }\n",
       "\n",
       "    .dataframe tbody tr th {\n",
       "        vertical-align: top;\n",
       "    }\n",
       "\n",
       "    .dataframe thead th {\n",
       "        text-align: right;\n",
       "    }\n",
       "</style>\n",
       "<table border=\"1\" class=\"dataframe\">\n",
       "  <thead>\n",
       "    <tr style=\"text-align: right;\">\n",
       "      <th></th>\n",
       "      <th>count</th>\n",
       "      <th>unique</th>\n",
       "      <th>top</th>\n",
       "      <th>freq</th>\n",
       "      <th>mean</th>\n",
       "      <th>std</th>\n",
       "      <th>min</th>\n",
       "      <th>25%</th>\n",
       "      <th>50%</th>\n",
       "      <th>75%</th>\n",
       "      <th>max</th>\n",
       "    </tr>\n",
       "  </thead>\n",
       "  <tbody>\n",
       "    <tr>\n",
       "      <th>case_id</th>\n",
       "      <td>25480</td>\n",
       "      <td>25480</td>\n",
       "      <td>EZYV18919</td>\n",
       "      <td>1</td>\n",
       "      <td>NaN</td>\n",
       "      <td>NaN</td>\n",
       "      <td>NaN</td>\n",
       "      <td>NaN</td>\n",
       "      <td>NaN</td>\n",
       "      <td>NaN</td>\n",
       "      <td>NaN</td>\n",
       "    </tr>\n",
       "    <tr>\n",
       "      <th>continent</th>\n",
       "      <td>25480</td>\n",
       "      <td>6</td>\n",
       "      <td>Asia</td>\n",
       "      <td>16861</td>\n",
       "      <td>NaN</td>\n",
       "      <td>NaN</td>\n",
       "      <td>NaN</td>\n",
       "      <td>NaN</td>\n",
       "      <td>NaN</td>\n",
       "      <td>NaN</td>\n",
       "      <td>NaN</td>\n",
       "    </tr>\n",
       "    <tr>\n",
       "      <th>education_of_employee</th>\n",
       "      <td>25480</td>\n",
       "      <td>4</td>\n",
       "      <td>Bachelor's</td>\n",
       "      <td>10234</td>\n",
       "      <td>NaN</td>\n",
       "      <td>NaN</td>\n",
       "      <td>NaN</td>\n",
       "      <td>NaN</td>\n",
       "      <td>NaN</td>\n",
       "      <td>NaN</td>\n",
       "      <td>NaN</td>\n",
       "    </tr>\n",
       "    <tr>\n",
       "      <th>has_job_experience</th>\n",
       "      <td>25480</td>\n",
       "      <td>2</td>\n",
       "      <td>Y</td>\n",
       "      <td>14802</td>\n",
       "      <td>NaN</td>\n",
       "      <td>NaN</td>\n",
       "      <td>NaN</td>\n",
       "      <td>NaN</td>\n",
       "      <td>NaN</td>\n",
       "      <td>NaN</td>\n",
       "      <td>NaN</td>\n",
       "    </tr>\n",
       "    <tr>\n",
       "      <th>requires_job_training</th>\n",
       "      <td>25480</td>\n",
       "      <td>2</td>\n",
       "      <td>N</td>\n",
       "      <td>22525</td>\n",
       "      <td>NaN</td>\n",
       "      <td>NaN</td>\n",
       "      <td>NaN</td>\n",
       "      <td>NaN</td>\n",
       "      <td>NaN</td>\n",
       "      <td>NaN</td>\n",
       "      <td>NaN</td>\n",
       "    </tr>\n",
       "    <tr>\n",
       "      <th>no_of_employees</th>\n",
       "      <td>25480.0</td>\n",
       "      <td>NaN</td>\n",
       "      <td>NaN</td>\n",
       "      <td>NaN</td>\n",
       "      <td>5667.04321</td>\n",
       "      <td>22877.928848</td>\n",
       "      <td>-26.0</td>\n",
       "      <td>1022.0</td>\n",
       "      <td>2109.0</td>\n",
       "      <td>3504.0</td>\n",
       "      <td>602069.0</td>\n",
       "    </tr>\n",
       "    <tr>\n",
       "      <th>yr_of_estab</th>\n",
       "      <td>25480.0</td>\n",
       "      <td>NaN</td>\n",
       "      <td>NaN</td>\n",
       "      <td>NaN</td>\n",
       "      <td>1979.409929</td>\n",
       "      <td>42.366929</td>\n",
       "      <td>1800.0</td>\n",
       "      <td>1976.0</td>\n",
       "      <td>1997.0</td>\n",
       "      <td>2005.0</td>\n",
       "      <td>2016.0</td>\n",
       "    </tr>\n",
       "    <tr>\n",
       "      <th>region_of_employment</th>\n",
       "      <td>25480</td>\n",
       "      <td>5</td>\n",
       "      <td>Northeast</td>\n",
       "      <td>7195</td>\n",
       "      <td>NaN</td>\n",
       "      <td>NaN</td>\n",
       "      <td>NaN</td>\n",
       "      <td>NaN</td>\n",
       "      <td>NaN</td>\n",
       "      <td>NaN</td>\n",
       "      <td>NaN</td>\n",
       "    </tr>\n",
       "    <tr>\n",
       "      <th>prevailing_wage</th>\n",
       "      <td>25480.0</td>\n",
       "      <td>NaN</td>\n",
       "      <td>NaN</td>\n",
       "      <td>NaN</td>\n",
       "      <td>74455.814592</td>\n",
       "      <td>52815.942327</td>\n",
       "      <td>2.1367</td>\n",
       "      <td>34015.48</td>\n",
       "      <td>70308.21</td>\n",
       "      <td>107735.5125</td>\n",
       "      <td>319210.27</td>\n",
       "    </tr>\n",
       "    <tr>\n",
       "      <th>unit_of_wage</th>\n",
       "      <td>25480</td>\n",
       "      <td>4</td>\n",
       "      <td>Year</td>\n",
       "      <td>22962</td>\n",
       "      <td>NaN</td>\n",
       "      <td>NaN</td>\n",
       "      <td>NaN</td>\n",
       "      <td>NaN</td>\n",
       "      <td>NaN</td>\n",
       "      <td>NaN</td>\n",
       "      <td>NaN</td>\n",
       "    </tr>\n",
       "    <tr>\n",
       "      <th>full_time_position</th>\n",
       "      <td>25480</td>\n",
       "      <td>2</td>\n",
       "      <td>Y</td>\n",
       "      <td>22773</td>\n",
       "      <td>NaN</td>\n",
       "      <td>NaN</td>\n",
       "      <td>NaN</td>\n",
       "      <td>NaN</td>\n",
       "      <td>NaN</td>\n",
       "      <td>NaN</td>\n",
       "      <td>NaN</td>\n",
       "    </tr>\n",
       "    <tr>\n",
       "      <th>case_status</th>\n",
       "      <td>25480</td>\n",
       "      <td>2</td>\n",
       "      <td>Certified</td>\n",
       "      <td>17018</td>\n",
       "      <td>NaN</td>\n",
       "      <td>NaN</td>\n",
       "      <td>NaN</td>\n",
       "      <td>NaN</td>\n",
       "      <td>NaN</td>\n",
       "      <td>NaN</td>\n",
       "      <td>NaN</td>\n",
       "    </tr>\n",
       "  </tbody>\n",
       "</table>\n",
       "</div>"
      ],
      "text/plain": [
       "                         count unique         top   freq          mean  \\\n",
       "case_id                  25480  25480   EZYV18919      1           NaN   \n",
       "continent                25480      6        Asia  16861           NaN   \n",
       "education_of_employee    25480      4  Bachelor's  10234           NaN   \n",
       "has_job_experience       25480      2           Y  14802           NaN   \n",
       "requires_job_training    25480      2           N  22525           NaN   \n",
       "no_of_employees        25480.0    NaN         NaN    NaN    5667.04321   \n",
       "yr_of_estab            25480.0    NaN         NaN    NaN   1979.409929   \n",
       "region_of_employment     25480      5   Northeast   7195           NaN   \n",
       "prevailing_wage        25480.0    NaN         NaN    NaN  74455.814592   \n",
       "unit_of_wage             25480      4        Year  22962           NaN   \n",
       "full_time_position       25480      2           Y  22773           NaN   \n",
       "case_status              25480      2   Certified  17018           NaN   \n",
       "\n",
       "                                std     min       25%       50%          75%  \\\n",
       "case_id                         NaN     NaN       NaN       NaN          NaN   \n",
       "continent                       NaN     NaN       NaN       NaN          NaN   \n",
       "education_of_employee           NaN     NaN       NaN       NaN          NaN   \n",
       "has_job_experience              NaN     NaN       NaN       NaN          NaN   \n",
       "requires_job_training           NaN     NaN       NaN       NaN          NaN   \n",
       "no_of_employees        22877.928848   -26.0    1022.0    2109.0       3504.0   \n",
       "yr_of_estab               42.366929  1800.0    1976.0    1997.0       2005.0   \n",
       "region_of_employment            NaN     NaN       NaN       NaN          NaN   \n",
       "prevailing_wage        52815.942327  2.1367  34015.48  70308.21  107735.5125   \n",
       "unit_of_wage                    NaN     NaN       NaN       NaN          NaN   \n",
       "full_time_position              NaN     NaN       NaN       NaN          NaN   \n",
       "case_status                     NaN     NaN       NaN       NaN          NaN   \n",
       "\n",
       "                             max  \n",
       "case_id                      NaN  \n",
       "continent                    NaN  \n",
       "education_of_employee        NaN  \n",
       "has_job_experience           NaN  \n",
       "requires_job_training        NaN  \n",
       "no_of_employees         602069.0  \n",
       "yr_of_estab               2016.0  \n",
       "region_of_employment         NaN  \n",
       "prevailing_wage        319210.27  \n",
       "unit_of_wage                 NaN  \n",
       "full_time_position           NaN  \n",
       "case_status                  NaN  "
      ]
     },
     "execution_count": 7,
     "metadata": {},
     "output_type": "execute_result"
    }
   ],
   "source": [
    "data.describe(include='all').T"
   ]
  },
  {
   "cell_type": "markdown",
   "id": "3a7f64a0",
   "metadata": {},
   "source": [
    "The min value for no_of_employees cant be -26\n",
    "\n",
    "most employees have a bachelor's degree\n",
    "\n",
    "Most of the employment is from Northeast region.\n",
    "\n",
    "Most popular continent which applicants are from is Asia.\n",
    "\n",
    "Average prevailing wage is $74456.There's also a very huge difference in 75th percentile and maximum value\n",
    "\n",
    "There's an extremely large gap between the 75th percentile and the max value of no_of_employees\n",
    "\n",
    "Most of the employees have job experience."
   ]
  },
  {
   "cell_type": "code",
   "execution_count": 8,
   "id": "ff3229ee",
   "metadata": {},
   "outputs": [
    {
     "data": {
      "text/html": [
       "<div>\n",
       "<style scoped>\n",
       "    .dataframe tbody tr th:only-of-type {\n",
       "        vertical-align: middle;\n",
       "    }\n",
       "\n",
       "    .dataframe tbody tr th {\n",
       "        vertical-align: top;\n",
       "    }\n",
       "\n",
       "    .dataframe thead th {\n",
       "        text-align: right;\n",
       "    }\n",
       "</style>\n",
       "<table border=\"1\" class=\"dataframe\">\n",
       "  <thead>\n",
       "    <tr style=\"text-align: right;\">\n",
       "      <th></th>\n",
       "      <th>case_id</th>\n",
       "      <th>continent</th>\n",
       "      <th>education_of_employee</th>\n",
       "      <th>has_job_experience</th>\n",
       "      <th>requires_job_training</th>\n",
       "      <th>no_of_employees</th>\n",
       "      <th>yr_of_estab</th>\n",
       "      <th>region_of_employment</th>\n",
       "      <th>prevailing_wage</th>\n",
       "      <th>unit_of_wage</th>\n",
       "      <th>full_time_position</th>\n",
       "      <th>case_status</th>\n",
       "    </tr>\n",
       "  </thead>\n",
       "  <tbody>\n",
       "    <tr>\n",
       "      <th>245</th>\n",
       "      <td>EZYV246</td>\n",
       "      <td>Europe</td>\n",
       "      <td>Master's</td>\n",
       "      <td>N</td>\n",
       "      <td>N</td>\n",
       "      <td>-25</td>\n",
       "      <td>1980</td>\n",
       "      <td>Northeast</td>\n",
       "      <td>39452.99</td>\n",
       "      <td>Year</td>\n",
       "      <td>Y</td>\n",
       "      <td>Certified</td>\n",
       "    </tr>\n",
       "    <tr>\n",
       "      <th>378</th>\n",
       "      <td>EZYV379</td>\n",
       "      <td>Asia</td>\n",
       "      <td>Bachelor's</td>\n",
       "      <td>N</td>\n",
       "      <td>Y</td>\n",
       "      <td>-11</td>\n",
       "      <td>2011</td>\n",
       "      <td>Northeast</td>\n",
       "      <td>32506.14</td>\n",
       "      <td>Year</td>\n",
       "      <td>Y</td>\n",
       "      <td>Denied</td>\n",
       "    </tr>\n",
       "    <tr>\n",
       "      <th>832</th>\n",
       "      <td>EZYV833</td>\n",
       "      <td>South America</td>\n",
       "      <td>Master's</td>\n",
       "      <td>Y</td>\n",
       "      <td>N</td>\n",
       "      <td>-17</td>\n",
       "      <td>2002</td>\n",
       "      <td>South</td>\n",
       "      <td>129701.94</td>\n",
       "      <td>Year</td>\n",
       "      <td>Y</td>\n",
       "      <td>Certified</td>\n",
       "    </tr>\n",
       "    <tr>\n",
       "      <th>2918</th>\n",
       "      <td>EZYV2919</td>\n",
       "      <td>Asia</td>\n",
       "      <td>Master's</td>\n",
       "      <td>Y</td>\n",
       "      <td>N</td>\n",
       "      <td>-26</td>\n",
       "      <td>2005</td>\n",
       "      <td>Midwest</td>\n",
       "      <td>112799.46</td>\n",
       "      <td>Year</td>\n",
       "      <td>Y</td>\n",
       "      <td>Certified</td>\n",
       "    </tr>\n",
       "    <tr>\n",
       "      <th>6439</th>\n",
       "      <td>EZYV6440</td>\n",
       "      <td>Asia</td>\n",
       "      <td>Bachelor's</td>\n",
       "      <td>N</td>\n",
       "      <td>N</td>\n",
       "      <td>-14</td>\n",
       "      <td>2013</td>\n",
       "      <td>South</td>\n",
       "      <td>103.97</td>\n",
       "      <td>Hour</td>\n",
       "      <td>Y</td>\n",
       "      <td>Denied</td>\n",
       "    </tr>\n",
       "  </tbody>\n",
       "</table>\n",
       "</div>"
      ],
      "text/plain": [
       "       case_id      continent education_of_employee has_job_experience  \\\n",
       "245    EZYV246         Europe              Master's                  N   \n",
       "378    EZYV379           Asia            Bachelor's                  N   \n",
       "832    EZYV833  South America              Master's                  Y   \n",
       "2918  EZYV2919           Asia              Master's                  Y   \n",
       "6439  EZYV6440           Asia            Bachelor's                  N   \n",
       "\n",
       "     requires_job_training  no_of_employees  yr_of_estab region_of_employment  \\\n",
       "245                      N              -25         1980            Northeast   \n",
       "378                      Y              -11         2011            Northeast   \n",
       "832                      N              -17         2002                South   \n",
       "2918                     N              -26         2005              Midwest   \n",
       "6439                     N              -14         2013                South   \n",
       "\n",
       "      prevailing_wage unit_of_wage full_time_position case_status  \n",
       "245          39452.99         Year                  Y   Certified  \n",
       "378          32506.14         Year                  Y      Denied  \n",
       "832         129701.94         Year                  Y   Certified  \n",
       "2918        112799.46         Year                  Y   Certified  \n",
       "6439           103.97         Hour                  Y      Denied  "
      ]
     },
     "execution_count": 8,
     "metadata": {},
     "output_type": "execute_result"
    }
   ],
   "source": [
    "#to view the negative values\n",
    "data.loc[data['no_of_employees'] < 0].head()"
   ]
  },
  {
   "cell_type": "code",
   "execution_count": 9,
   "id": "6e8cf0c8",
   "metadata": {},
   "outputs": [
    {
     "data": {
      "text/plain": [
       "(33, 12)"
      ]
     },
     "execution_count": 9,
     "metadata": {},
     "output_type": "execute_result"
    }
   ],
   "source": [
    "data.loc[data['no_of_employees'] < 0].shape"
   ]
  },
  {
   "cell_type": "code",
   "execution_count": 10,
   "id": "928a94cd",
   "metadata": {},
   "outputs": [],
   "source": [
    "#to change the negative to positive assuming there are entry errors \n",
    "data[\"no_of_employees\"] = abs(data[\"no_of_employees\"]) "
   ]
  },
  {
   "cell_type": "markdown",
   "id": "5fed6874",
   "metadata": {},
   "source": [
    "changed"
   ]
  },
  {
   "cell_type": "code",
   "execution_count": 11,
   "id": "4791b2e7",
   "metadata": {
    "scrolled": false
   },
   "outputs": [
    {
     "name": "stdout",
     "output_type": "stream",
     "text": [
      "EZYV12390    1\n",
      "EZYV20205    1\n",
      "EZYV3933     1\n",
      "EZYV36       1\n",
      "EZYV5936     1\n",
      "            ..\n",
      "EZYV14607    1\n",
      "EZYV21497    1\n",
      "EZYV10799    1\n",
      "EZYV20959    1\n",
      "EZYV17758    1\n",
      "Name: case_id, Length: 25480, dtype: int64\n",
      "------------------------------\n",
      "Asia             16861\n",
      "Europe            3732\n",
      "North America     3292\n",
      "South America      852\n",
      "Africa             551\n",
      "Oceania            192\n",
      "Name: continent, dtype: int64\n",
      "------------------------------\n",
      "Bachelor's     10234\n",
      "Master's        9634\n",
      "High School     3420\n",
      "Doctorate       2192\n",
      "Name: education_of_employee, dtype: int64\n",
      "------------------------------\n",
      "Y    14802\n",
      "N    10678\n",
      "Name: has_job_experience, dtype: int64\n",
      "------------------------------\n",
      "N    22525\n",
      "Y     2955\n",
      "Name: requires_job_training, dtype: int64\n",
      "------------------------------\n",
      "Northeast    7195\n",
      "South        7017\n",
      "West         6586\n",
      "Midwest      4307\n",
      "Island        375\n",
      "Name: region_of_employment, dtype: int64\n",
      "------------------------------\n",
      "Year     22962\n",
      "Hour      2157\n",
      "Week       272\n",
      "Month       89\n",
      "Name: unit_of_wage, dtype: int64\n",
      "------------------------------\n",
      "Y    22773\n",
      "N     2707\n",
      "Name: full_time_position, dtype: int64\n",
      "------------------------------\n",
      "Certified    17018\n",
      "Denied        8462\n",
      "Name: case_status, dtype: int64\n",
      "------------------------------\n"
     ]
    }
   ],
   "source": [
    "#check the count of each unique category in each of the categorical variables.\n",
    "#Making a list of all catrgorical variables\n",
    "\n",
    "c_col = list(data.select_dtypes(\"object\").columns)\n",
    "\n",
    "# Printing number of count of each unique value in each column\n",
    "for column in c_col:\n",
    "    print(data[column].value_counts())\n",
    "    print(\"-\" * 30) "
   ]
  },
  {
   "cell_type": "code",
   "execution_count": null,
   "id": "a4b18fa2",
   "metadata": {},
   "outputs": [],
   "source": []
  },
  {
   "cell_type": "markdown",
   "id": "c83d634d",
   "metadata": {},
   "source": [
    "since all the values in case_id are unique, the column will be droped"
   ]
  },
  {
   "cell_type": "code",
   "execution_count": 12,
   "id": "1bd346d4",
   "metadata": {},
   "outputs": [],
   "source": [
    "## Complete the code to drop 'case_id' column from the data\n",
    "data.drop(['case_id'], axis=1, inplace=True)"
   ]
  },
  {
   "cell_type": "code",
   "execution_count": 13,
   "id": "0aae6423",
   "metadata": {},
   "outputs": [],
   "source": [
    "# function to plot a boxplot and a histogram along the same scale.\n",
    "\n",
    "\n",
    "def histogram_boxplot(data, feature, figsize=(12, 7), kde=False, bins=None):\n",
    "    \"\"\"\n",
    "    Boxplot and histogram combined\n",
    "\n",
    "    data: dataframe\n",
    "    feature: dataframe column\n",
    "    figsize: size of figure (default (12,7))\n",
    "    kde: whether to the show density curve (default False)\n",
    "    bins: number of bins for histogram (default None)\n",
    "    \"\"\"\n",
    "    f2, (ax_box2, ax_hist2) = plt.subplots(\n",
    "        nrows=2,  # Number of rows of the subplot grid= 2\n",
    "        sharex=True,  # x-axis will be shared among all subplots\n",
    "        gridspec_kw={\"height_ratios\": (0.25, 0.75)},\n",
    "        figsize=figsize,\n",
    "    )  # creating the 2 subplots\n",
    "    sns.boxplot(\n",
    "        data=data, x=feature, ax=ax_box2, showmeans=True, color=\"violet\"\n",
    "    )  # boxplot will be created and a star will indicate the mean value of the column\n",
    "    sns.histplot(\n",
    "        data=data, x=feature, kde=kde, ax=ax_hist2, bins=bins, palette=\"winter\"\n",
    "    ) if bins else sns.histplot(\n",
    "        data=data, x=feature, kde=kde, ax=ax_hist2\n",
    "    )  # For histogram\n",
    "    ax_hist2.axvline(\n",
    "        data[feature].mean(), color=\"green\", linestyle=\"--\"\n",
    "    )  # Add mean to the histogram\n",
    "    ax_hist2.axvline(\n",
    "        data[feature].median(), color=\"orange\", linestyle=\"-\"\n",
    "    )  # Add median to the histogram"
   ]
  },
  {
   "cell_type": "code",
   "execution_count": 14,
   "id": "9191fc7f",
   "metadata": {
    "scrolled": true
   },
   "outputs": [
    {
     "data": {
      "image/png": "[encoded data removed]",
      "text/plain": [
       "<Figure size 864x504 with 2 Axes>"
      ]
     },
     "metadata": {
      "needs_background": "light"
     },
     "output_type": "display_data"
    }
   ],
   "source": [
    "histogram_boxplot(data, \"no_of_employees\")"
   ]
  },
  {
   "cell_type": "markdown",
   "id": "96e3078a",
   "metadata": {},
   "source": [
    "there are a lot of outliers \n",
    "\n",
    "i'm not even seeing any box, its like there is no graph here or i didnt do it correctly, *shrugs*\n",
    "\n",
    "what does count stand for again?"
   ]
  },
  {
   "cell_type": "code",
   "execution_count": 15,
   "id": "82ecd4b7",
   "metadata": {
    "scrolled": true
   },
   "outputs": [
    {
     "data": {
      "image/png": "[encoded data removed]",
      "text/plain": [
       "<Figure size 864x504 with 2 Axes>"
      ]
     },
     "metadata": {
      "needs_background": "light"
     },
     "output_type": "display_data"
    }
   ],
   "source": [
    "histogram_boxplot(data,\"prevailing_wage\") "
   ]
  },
  {
   "cell_type": "markdown",
   "id": "7280b0d5",
   "metadata": {},
   "source": [
    "there are outliers but not as much as the one in no_of_employees column\n",
    "\n",
    "median is the 50th percentile\n",
    "\n",
    "so apparently count means the frequency of occurrences of each unique value in the \"prevailing_wage\" column.\n",
    "its still not adding up though\n",
    "\n",
    "ok so, count is frequency yeah, but the frequency of a percentile group, not just individual values. so yeah\n"
   ]
  },
  {
   "cell_type": "code",
   "execution_count": 16,
   "id": "4f78e124",
   "metadata": {},
   "outputs": [
    {
     "data": {
      "text/plain": [
       "(2682, 11)"
      ]
     },
     "execution_count": 16,
     "metadata": {},
     "output_type": "execute_result"
    }
   ],
   "source": [
    "data.loc[data['prevailing_wage'] < 5000].shape"
   ]
  },
  {
   "cell_type": "code",
   "execution_count": 17,
   "id": "23d80cc5",
   "metadata": {
    "scrolled": true
   },
   "outputs": [
    {
     "data": {
      "text/html": [
       "<div>\n",
       "<style scoped>\n",
       "    .dataframe tbody tr th:only-of-type {\n",
       "        vertical-align: middle;\n",
       "    }\n",
       "\n",
       "    .dataframe tbody tr th {\n",
       "        vertical-align: top;\n",
       "    }\n",
       "\n",
       "    .dataframe thead th {\n",
       "        text-align: right;\n",
       "    }\n",
       "</style>\n",
       "<table border=\"1\" class=\"dataframe\">\n",
       "  <thead>\n",
       "    <tr style=\"text-align: right;\">\n",
       "      <th></th>\n",
       "      <th>continent</th>\n",
       "      <th>education_of_employee</th>\n",
       "      <th>has_job_experience</th>\n",
       "      <th>requires_job_training</th>\n",
       "      <th>no_of_employees</th>\n",
       "      <th>yr_of_estab</th>\n",
       "      <th>region_of_employment</th>\n",
       "      <th>prevailing_wage</th>\n",
       "      <th>unit_of_wage</th>\n",
       "      <th>full_time_position</th>\n",
       "      <th>case_status</th>\n",
       "    </tr>\n",
       "  </thead>\n",
       "  <tbody>\n",
       "    <tr>\n",
       "      <th>338</th>\n",
       "      <td>Asia</td>\n",
       "      <td>Bachelor's</td>\n",
       "      <td>Y</td>\n",
       "      <td>N</td>\n",
       "      <td>2114</td>\n",
       "      <td>2012</td>\n",
       "      <td>Northeast</td>\n",
       "      <td>15.7716</td>\n",
       "      <td>Hour</td>\n",
       "      <td>Y</td>\n",
       "      <td>Certified</td>\n",
       "    </tr>\n",
       "    <tr>\n",
       "      <th>634</th>\n",
       "      <td>Asia</td>\n",
       "      <td>Master's</td>\n",
       "      <td>N</td>\n",
       "      <td>N</td>\n",
       "      <td>834</td>\n",
       "      <td>1977</td>\n",
       "      <td>Northeast</td>\n",
       "      <td>3.3188</td>\n",
       "      <td>Hour</td>\n",
       "      <td>Y</td>\n",
       "      <td>Denied</td>\n",
       "    </tr>\n",
       "    <tr>\n",
       "      <th>839</th>\n",
       "      <td>Asia</td>\n",
       "      <td>High School</td>\n",
       "      <td>Y</td>\n",
       "      <td>N</td>\n",
       "      <td>4537</td>\n",
       "      <td>1999</td>\n",
       "      <td>West</td>\n",
       "      <td>61.1329</td>\n",
       "      <td>Hour</td>\n",
       "      <td>Y</td>\n",
       "      <td>Denied</td>\n",
       "    </tr>\n",
       "    <tr>\n",
       "      <th>876</th>\n",
       "      <td>South America</td>\n",
       "      <td>Bachelor's</td>\n",
       "      <td>Y</td>\n",
       "      <td>N</td>\n",
       "      <td>731</td>\n",
       "      <td>2004</td>\n",
       "      <td>Northeast</td>\n",
       "      <td>82.0029</td>\n",
       "      <td>Hour</td>\n",
       "      <td>Y</td>\n",
       "      <td>Denied</td>\n",
       "    </tr>\n",
       "    <tr>\n",
       "      <th>995</th>\n",
       "      <td>Asia</td>\n",
       "      <td>Master's</td>\n",
       "      <td>N</td>\n",
       "      <td>N</td>\n",
       "      <td>302</td>\n",
       "      <td>2000</td>\n",
       "      <td>South</td>\n",
       "      <td>47.4872</td>\n",
       "      <td>Hour</td>\n",
       "      <td>Y</td>\n",
       "      <td>Certified</td>\n",
       "    </tr>\n",
       "    <tr>\n",
       "      <th>1144</th>\n",
       "      <td>Asia</td>\n",
       "      <td>Master's</td>\n",
       "      <td>N</td>\n",
       "      <td>N</td>\n",
       "      <td>3542</td>\n",
       "      <td>2001</td>\n",
       "      <td>Northeast</td>\n",
       "      <td>48.0065</td>\n",
       "      <td>Hour</td>\n",
       "      <td>Y</td>\n",
       "      <td>Denied</td>\n",
       "    </tr>\n",
       "    <tr>\n",
       "      <th>1147</th>\n",
       "      <td>North America</td>\n",
       "      <td>Bachelor's</td>\n",
       "      <td>Y</td>\n",
       "      <td>N</td>\n",
       "      <td>169</td>\n",
       "      <td>2007</td>\n",
       "      <td>Northeast</td>\n",
       "      <td>99.3492</td>\n",
       "      <td>Hour</td>\n",
       "      <td>Y</td>\n",
       "      <td>Denied</td>\n",
       "    </tr>\n",
       "    <tr>\n",
       "      <th>1215</th>\n",
       "      <td>Asia</td>\n",
       "      <td>Bachelor's</td>\n",
       "      <td>N</td>\n",
       "      <td>N</td>\n",
       "      <td>1814</td>\n",
       "      <td>2002</td>\n",
       "      <td>Northeast</td>\n",
       "      <td>10.5551</td>\n",
       "      <td>Hour</td>\n",
       "      <td>Y</td>\n",
       "      <td>Denied</td>\n",
       "    </tr>\n",
       "    <tr>\n",
       "      <th>1238</th>\n",
       "      <td>South America</td>\n",
       "      <td>Doctorate</td>\n",
       "      <td>N</td>\n",
       "      <td>N</td>\n",
       "      <td>1998</td>\n",
       "      <td>1992</td>\n",
       "      <td>West</td>\n",
       "      <td>16.4637</td>\n",
       "      <td>Hour</td>\n",
       "      <td>Y</td>\n",
       "      <td>Denied</td>\n",
       "    </tr>\n",
       "    <tr>\n",
       "      <th>1326</th>\n",
       "      <td>Asia</td>\n",
       "      <td>Master's</td>\n",
       "      <td>N</td>\n",
       "      <td>N</td>\n",
       "      <td>2198</td>\n",
       "      <td>2004</td>\n",
       "      <td>Northeast</td>\n",
       "      <td>89.5992</td>\n",
       "      <td>Hour</td>\n",
       "      <td>Y</td>\n",
       "      <td>Denied</td>\n",
       "    </tr>\n",
       "  </tbody>\n",
       "</table>\n",
       "</div>"
      ],
      "text/plain": [
       "          continent education_of_employee has_job_experience  \\\n",
       "338            Asia            Bachelor's                  Y   \n",
       "634            Asia              Master's                  N   \n",
       "839            Asia           High School                  Y   \n",
       "876   South America            Bachelor's                  Y   \n",
       "995            Asia              Master's                  N   \n",
       "1144           Asia              Master's                  N   \n",
       "1147  North America            Bachelor's                  Y   \n",
       "1215           Asia            Bachelor's                  N   \n",
       "1238  South America             Doctorate                  N   \n",
       "1326           Asia              Master's                  N   \n",
       "\n",
       "     requires_job_training  no_of_employees  yr_of_estab region_of_employment  \\\n",
       "338                      N             2114         2012            Northeast   \n",
       "634                      N              834         1977            Northeast   \n",
       "839                      N             4537         1999                 West   \n",
       "876                      N              731         2004            Northeast   \n",
       "995                      N              302         2000                South   \n",
       "1144                     N             3542         2001            Northeast   \n",
       "1147                     N              169         2007            Northeast   \n",
       "1215                     N             1814         2002            Northeast   \n",
       "1238                     N             1998         1992                 West   \n",
       "1326                     N             2198         2004            Northeast   \n",
       "\n",
       "      prevailing_wage unit_of_wage full_time_position case_status  \n",
       "338           15.7716         Hour                  Y   Certified  \n",
       "634            3.3188         Hour                  Y      Denied  \n",
       "839           61.1329         Hour                  Y      Denied  \n",
       "876           82.0029         Hour                  Y      Denied  \n",
       "995           47.4872         Hour                  Y   Certified  \n",
       "1144          48.0065         Hour                  Y      Denied  \n",
       "1147          99.3492         Hour                  Y      Denied  \n",
       "1215          10.5551         Hour                  Y      Denied  \n",
       "1238          16.4637         Hour                  Y      Denied  \n",
       "1326          89.5992         Hour                  Y      Denied  "
      ]
     },
     "execution_count": 17,
     "metadata": {},
     "output_type": "execute_result"
    }
   ],
   "source": [
    "data.loc[data['prevailing_wage'] < 100].head(10)"
   ]
  },
  {
   "cell_type": "code",
   "execution_count": 18,
   "id": "210652a0",
   "metadata": {},
   "outputs": [
    {
     "data": {
      "text/plain": [
       "Hour    176\n",
       "Name: unit_of_wage, dtype: int64"
      ]
     },
     "execution_count": 18,
     "metadata": {},
     "output_type": "execute_result"
    }
   ],
   "source": [
    "\n",
    "data.loc[data[\"prevailing_wage\"] < 100, \"unit_of_wage\"].value_counts() "
   ]
  },
  {
   "cell_type": "markdown",
   "id": "f2bde943",
   "metadata": {},
   "source": [
    "all the data from the prevailing wages that are less tham 100 are on hourly pay which makes sense and shows that the data is consistent"
   ]
  },
  {
   "cell_type": "code",
   "execution_count": 19,
   "id": "d7ebc1da",
   "metadata": {},
   "outputs": [
    {
     "data": {
      "text/plain": [
       "Hour     2157\n",
       "Year      518\n",
       "Week        4\n",
       "Month       3\n",
       "Name: unit_of_wage, dtype: int64"
      ]
     },
     "execution_count": 19,
     "metadata": {},
     "output_type": "execute_result"
    }
   ],
   "source": [
    "\n",
    "data.loc[data[\"prevailing_wage\"] < 5000, \"unit_of_wage\"].value_counts() "
   ]
  },
  {
   "cell_type": "markdown",
   "id": "612da3c6",
   "metadata": {},
   "source": [
    "all the hourly wage are in the first bin i.e prevailing wage < 5000"
   ]
  },
  {
   "cell_type": "code",
   "execution_count": null,
   "id": "910b53ee",
   "metadata": {},
   "outputs": [],
   "source": []
  },
  {
   "cell_type": "code",
   "execution_count": 20,
   "id": "9cfa6d85",
   "metadata": {},
   "outputs": [],
   "source": [
    "import pandas as pd\n",
    "import seaborn as sns\n",
    "import matplotlib.pyplot as plt\n",
    "\n",
    "def labeled_barplot(data, feature):\n",
    "    \"\"\"\n",
    "    Barplot with percentage at the top\n",
    "\n",
    "    data: dataframe\n",
    "    feature: dataframe column\n",
    "    \"\"\"\n",
    "\n",
    "    total = len(data[feature])  # length of the column\n",
    "    plt.figure(figsize=(8, 6))\n",
    "    plt.xticks(rotation=90, fontsize=15)\n",
    "    ax = sns.countplot(data=data, x=feature, palette=\"Paired\")\n",
    "\n",
    "    for p in ax.patches:\n",
    "        label = \"{:.1f}%\".format(100 * p.get_height() / total)  # percentage of each category\n",
    "        x = p.get_x() + p.get_width() / 2  # width of the plot\n",
    "        y = p.get_height()  # height of the plot\n",
    "\n",
    "        ax.annotate(\n",
    "            label,\n",
    "            (x, y),\n",
    "            ha=\"center\",\n",
    "            va=\"center\",\n",
    "            size=12,\n",
    "            xytext=(0, 5),\n",
    "            textcoords=\"offset points\",\n",
    "        )  # annotate the percentage\n",
    "\n",
    "    plt.xlabel(feature, fontsize=15)\n",
    "    plt.ylabel(\"Count\", fontsize=15)\n",
    "    plt.title(f\"Bar Plot of {feature} with Percentage\", fontsize=18)\n",
    "    plt.show()\n",
    "\n",
    "\n"
   ]
  },
  {
   "cell_type": "code",
   "execution_count": 21,
   "id": "7ab845a1",
   "metadata": {},
   "outputs": [
    {
     "data": {
      "image/png": "[encoded data removed]",
      "text/plain": [
       "<Figure size 576x432 with 1 Axes>"
      ]
     },
     "metadata": {
      "needs_background": "light"
     },
     "output_type": "display_data"
    }
   ],
   "source": [
    "labeled_barplot(data, \"continent\") "
   ]
  },
  {
   "cell_type": "markdown",
   "id": "92cac365",
   "metadata": {},
   "source": [
    "most of the applicants are from asia (more than half)"
   ]
  },
  {
   "cell_type": "code",
   "execution_count": 22,
   "id": "ba81619d",
   "metadata": {},
   "outputs": [
    {
     "data": {
      "image/png": "[encoded data removed]",
      "text/plain": [
       "<Figure size 576x432 with 1 Axes>"
      ]
     },
     "metadata": {
      "needs_background": "light"
     },
     "output_type": "display_data"
    }
   ],
   "source": [
    "labeled_barplot(data, \"education_of_employee\") "
   ]
  },
  {
   "cell_type": "markdown",
   "id": "33fcc0d3",
   "metadata": {},
   "source": []
  },
  {
   "cell_type": "code",
   "execution_count": 23,
   "id": "fcf26be0",
   "metadata": {},
   "outputs": [
    {
     "data": {
      "image/png": "[encoded data removed]",
      "text/plain": [
       "<Figure size 576x432 with 1 Axes>"
      ]
     },
     "metadata": {
      "needs_background": "light"
     },
     "output_type": "display_data"
    }
   ],
   "source": [
    "labeled_barplot(data, \"has_job_experience\") "
   ]
  },
  {
   "cell_type": "code",
   "execution_count": 24,
   "id": "018255f8",
   "metadata": {},
   "outputs": [
    {
     "data": {
      "image/png": "[encoded data removed]",
      "text/plain": [
       "<Figure size 576x432 with 1 Axes>"
      ]
     },
     "metadata": {
      "needs_background": "light"
     },
     "output_type": "display_data"
    }
   ],
   "source": [
    "labeled_barplot(data, \"requires_job_training\") "
   ]
  },
  {
   "cell_type": "code",
   "execution_count": 25,
   "id": "7e00fafd",
   "metadata": {},
   "outputs": [
    {
     "data": {
      "image/png": "[encoded data removed]",
      "text/plain": [
       "<Figure size 576x432 with 1 Axes>"
      ]
     },
     "metadata": {
      "needs_background": "light"
     },
     "output_type": "display_data"
    }
   ],
   "source": [
    "labeled_barplot(data, \"region_of_employment\") "
   ]
  },
  {
   "cell_type": "markdown",
   "id": "5ed3cc9d",
   "metadata": {},
   "source": [
    "Northeast, South, and West have almost equal percentages of applicants. (25%-28%)\n",
    "The Island regions have only 1.5% of the applicants.\n",
    "\n",
    "the island can be an outlier "
   ]
  },
  {
   "cell_type": "code",
   "execution_count": 26,
   "id": "5f7397b4",
   "metadata": {},
   "outputs": [
    {
     "data": {
      "image/png": "[encoded data removed]",
      "text/plain": [
       "<Figure size 576x432 with 1 Axes>"
      ]
     },
     "metadata": {
      "needs_background": "light"
     },
     "output_type": "display_data"
    }
   ],
   "source": [
    "labeled_barplot(data, \"unit_of_wage\") "
   ]
  },
  {
   "cell_type": "code",
   "execution_count": 27,
   "id": "2e6931f6",
   "metadata": {},
   "outputs": [
    {
     "data": {
      "image/png": "[encoded data removed]",
      "text/plain": [
       "<Figure size 576x432 with 1 Axes>"
      ]
     },
     "metadata": {
      "needs_background": "light"
     },
     "output_type": "display_data"
    }
   ],
   "source": [
    "labeled_barplot(data, \"full_time_position\") "
   ]
  },
  {
   "cell_type": "code",
   "execution_count": 28,
   "id": "ea8f725c",
   "metadata": {},
   "outputs": [
    {
     "data": {
      "image/png": "[encoded data removed]",
      "text/plain": [
       "<Figure size 576x432 with 1 Axes>"
      ]
     },
     "metadata": {
      "needs_background": "light"
     },
     "output_type": "display_data"
    }
   ],
   "source": [
    "labeled_barplot(data, \"case_status\") "
   ]
  },
  {
   "cell_type": "markdown",
   "id": "3bc356d3",
   "metadata": {},
   "source": [
    "most of the applicants were granted visa. why?"
   ]
  },
  {
   "cell_type": "code",
   "execution_count": 29,
   "id": "978e822f",
   "metadata": {},
   "outputs": [
    {
     "name": "stdout",
     "output_type": "stream",
     "text": [
      "                 no_of_employees  yr_of_estab  prevailing_wage\n",
      "no_of_employees         1.000000    -0.017770        -0.009523\n",
      "yr_of_estab            -0.017770     1.000000         0.012342\n",
      "prevailing_wage        -0.009523     0.012342         1.000000\n"
     ]
    }
   ],
   "source": [
    "# Select only the numerical columns\n",
    "numerical_columns = data.select_dtypes(include=['int64', 'float64'])\n",
    "\n",
    "# Find the correlation between the numerical columns\n",
    "correlation_matrix = numerical_columns.corr()\n",
    "\n",
    "# Print the correlation matrix\n",
    "print(correlation_matrix)"
   ]
  },
  {
   "cell_type": "code",
   "execution_count": 30,
   "id": "4a918c55",
   "metadata": {},
   "outputs": [
    {
     "data": {
      "image/png": "[encoded data removed]",
      "text/plain": [
       "<Figure size 576x432 with 2 Axes>"
      ]
     },
     "metadata": {
      "needs_background": "light"
     },
     "output_type": "display_data"
    }
   ],
   "source": [
    "\n",
    "# Create a heatmap using seaborn\n",
    "plt.figure(figsize=(8, 6))\n",
    "sns.heatmap(correlation_matrix, annot=True, cmap='coolwarm', fmt=\".2f\", linewidths=0.5)\n",
    "\n",
    "# Set heatmap title\n",
    "plt.title(\"Correlation Heatmap\")\n",
    "\n",
    "# Show the heatmap\n",
    "plt.show()\n"
   ]
  },
  {
   "cell_type": "markdown",
   "id": "1e3325ff",
   "metadata": {},
   "source": [
    "In the provided correlation matrix, the correlation coefficients are as follows:\n",
    "\n",
    "Correlation between \"no_of_employees\" and \"yr_of_estab\" = -0.017770\n",
    "\n",
    "Correlation between \"no_of_employees\" and \"prevailing_wage\" = -0.009523\n",
    "\n",
    "Correlation between \"yr_of_estab\" and \"prevailing_wage\" = 0.012342\n",
    "\n",
    "The correlation coefficient between these variables is very close to zero\n",
    "\n",
    "This indicates a weak correlation or almost no linear relationship "
   ]
  },
  {
   "cell_type": "code",
   "execution_count": null,
   "id": "dd75865c",
   "metadata": {},
   "outputs": [],
   "source": []
  },
  {
   "cell_type": "code",
   "execution_count": 31,
   "id": "697baa0f",
   "metadata": {},
   "outputs": [
    {
     "name": "stdout",
     "output_type": "stream",
     "text": [
      "case_status            Certified  Denied\n",
      "education_of_employee                   \n",
      "Bachelor's                  6367    3867\n",
      "Doctorate                   1912     280\n",
      "High School                 1164    2256\n",
      "Master's                    7575    2059\n"
     ]
    },
    {
     "data": {
      "image/png": "[encoded data removed]",
      "text/plain": [
       "<Figure size 576x432 with 1 Axes>"
      ]
     },
     "metadata": {
      "needs_background": "light"
     },
     "output_type": "display_data"
    }
   ],
   "source": [
    "category_count = pd.crosstab(data['education_of_employee'], data['case_status'])\n",
    "\n",
    "# Print the category count\n",
    "print(category_count)\n",
    "\n",
    "# Plot a stacked bar chart\n",
    "category_count.plot(kind='bar', stacked=True, figsize=(8, 6))\n",
    "\n",
    "# Add labels and title\n",
    "plt.xlabel('Category1')\n",
    "plt.ylabel('Count')\n",
    "plt.title('Stacked Bar Chart of Category Count')\n",
    "# Show the plot\n",
    "plt.show()"
   ]
  },
  {
   "cell_type": "markdown",
   "id": "581717c4",
   "metadata": {},
   "source": [
    "to further understand this chart, we will make all stacked bars be on the same level, \n",
    "probably using percentage"
   ]
  },
  {
   "cell_type": "code",
   "execution_count": 32,
   "id": "1c6a56d0",
   "metadata": {},
   "outputs": [],
   "source": [
    "def plot_stacked_bar_chart(data, predictor_column, target_column):\n",
    "    \"\"\"\n",
    "    Generate a stacked bar chart based on two specified columns from a DataFrame.\n",
    "\n",
    "    data: DataFrame\n",
    "    predictor_column: Column name of the predictor variable\n",
    "    target_column: Column name of the target variable\n",
    "    \"\"\"\n",
    "    count = data[predictor_column].nunique()\n",
    "    sorter = data[target_column].value_counts().index[-1]\n",
    "\n",
    "    category_count = pd.crosstab(data[predictor_column], data[target_column], normalize='index').sort_values(\n",
    "       by=sorter, ascending=False\n",
    "    )\n",
    "    print(category_count)\n",
    "    # Plot a stacked bar chart\n",
    "    category_count.plot(kind='bar', stacked=True, figsize=(10, 6))\n",
    "\n",
    "    # Add labels and title\n",
    "    plt.xlabel(predictor_column)\n",
    "    plt.ylabel('Count')\n",
    "    plt.title(f'Stacked Bar Chart of {target_column} by {predictor_column}')\n",
    "\n",
    "    # Show the plot\n",
    "    plt.show()"
   ]
  },
  {
   "cell_type": "code",
   "execution_count": 33,
   "id": "500adcf7",
   "metadata": {},
   "outputs": [
    {
     "name": "stdout",
     "output_type": "stream",
     "text": [
      "case_status            Certified    Denied\n",
      "education_of_employee                     \n",
      "High School             0.340351  0.659649\n",
      "Bachelor's              0.622142  0.377858\n",
      "Master's                0.786278  0.213722\n",
      "Doctorate               0.872263  0.127737\n"
     ]
    },
    {
     "data": {
      "image/png": "[encoded data removed]",
      "text/plain": [
       "<Figure size 720x432 with 1 Axes>"
      ]
     },
     "metadata": {
      "needs_background": "light"
     },
     "output_type": "display_data"
    }
   ],
   "source": [
    "plot_stacked_bar_chart(data, 'education_of_employee', 'case_status')"
   ]
  },
  {
   "cell_type": "markdown",
   "id": "d3217aba",
   "metadata": {},
   "source": [
    "from the chart\n",
    "\n",
    "it seems like the higher the degree one has, the more likely your visa will be accepted\n",
    "\n",
    "like high school education has less visa certified than those with doctorate education "
   ]
  },
  {
   "cell_type": "code",
   "execution_count": 34,
   "id": "02ab7a73",
   "metadata": {
    "scrolled": true
   },
   "outputs": [
    {
     "data": {
      "image/png": "[encoded data removed]",
      "text/plain": [
       "<Figure size 720x432 with 2 Axes>"
      ]
     },
     "metadata": {
      "needs_background": "light"
     },
     "output_type": "display_data"
    }
   ],
   "source": [
    "# Create a heatmap using seaborn\n",
    "plt.figure(figsize=(10, 6))\n",
    "sns.heatmap(pd.crosstab(data['education_of_employee'], data['region_of_employment']), \n",
    "            annot=True, cmap='coolwarm', fmt=\".2f\", linewidths=0.5)\n",
    "\n",
    "# Set heatmap title\n",
    "plt.title(\"Correlation Heatmap\")\n",
    "\n",
    "# Show the heatmap\n",
    "plt.show()\n"
   ]
  },
  {
   "cell_type": "markdown",
   "id": "b3cb3998",
   "metadata": {},
   "source": [
    "The requirement for the applicants who have passed high school is most in the South region, followed by Northeast region.\n",
    "The requirement for Bachelor's is mostly in South region, followed by West region.\n",
    "The requirement for Master's is most in Northeast region, followed by South region.\n",
    "The requirement for Doctorate's is mostly in West region, followed by Northeast region.\n",
    "\n",
    "but can yu call these requirements?\n",
    "not really"
   ]
  },
  {
   "cell_type": "code",
   "execution_count": 35,
   "id": "a4b7fde7",
   "metadata": {},
   "outputs": [
    {
     "name": "stdout",
     "output_type": "stream",
     "text": [
      "case_status           Certified    Denied\n",
      "region_of_employment                     \n",
      "Island                 0.602667  0.397333\n",
      "West                   0.622533  0.377467\n",
      "Northeast              0.629048  0.370952\n",
      "South                  0.700157  0.299843\n",
      "Midwest                0.755282  0.244718\n"
     ]
    },
    {
     "data": {
      "image/png": "[encoded data removed]",
      "text/plain": [
       "<Figure size 720x432 with 1 Axes>"
      ]
     },
     "metadata": {
      "needs_background": "light"
     },
     "output_type": "display_data"
    }
   ],
   "source": [
    "    plot_stacked_bar_chart(data, 'region_of_employment', 'case_status')\n",
    "    "
   ]
  },
  {
   "cell_type": "markdown",
   "id": "45d22a86",
   "metadata": {},
   "source": [
    "midwest sees the highest no of visa certifications but its not the most picked from any level 0f education\n",
    "\n",
    "south sees the next highest"
   ]
  },
  {
   "cell_type": "code",
   "execution_count": 36,
   "id": "87ea10ec",
   "metadata": {},
   "outputs": [
    {
     "name": "stdout",
     "output_type": "stream",
     "text": [
      "case_status    Certified  Denied\n",
      "continent                       \n",
      "Africa               397     154\n",
      "Asia               11012    5849\n",
      "Europe              2957     775\n",
      "North America       2037    1255\n",
      "Oceania              122      70\n",
      "South America        493     359\n"
     ]
    }
   ],
   "source": [
    "category_count20 = pd.crosstab(data['continent'], data['case_status'])\n",
    "\n",
    "# Print the category count\n",
    "print(category_count20)\n",
    "\n",
    "\n"
   ]
  },
  {
   "cell_type": "code",
   "execution_count": 37,
   "id": "3120292e",
   "metadata": {
    "scrolled": true
   },
   "outputs": [
    {
     "name": "stdout",
     "output_type": "stream",
     "text": [
      "case_status    Certified    Denied\n",
      "continent                         \n",
      "South America   0.578638  0.421362\n",
      "North America   0.618773  0.381227\n",
      "Oceania         0.635417  0.364583\n",
      "Asia            0.653105  0.346895\n",
      "Africa          0.720508  0.279492\n",
      "Europe          0.792337  0.207663\n"
     ]
    },
    {
     "data": {
      "image/png": "[encoded data removed]",
      "text/plain": [
       "<Figure size 720x432 with 1 Axes>"
      ]
     },
     "metadata": {
      "needs_background": "light"
     },
     "output_type": "display_data"
    }
   ],
   "source": [
    "    plot_stacked_bar_chart(data, 'continent', 'case_status')\n",
    "    "
   ]
  },
  {
   "cell_type": "markdown",
   "id": "9f11f0b8",
   "metadata": {},
   "source": [
    "europe has the highest visa acceptance followed by africa\n",
    "\n",
    "asia has the 3rd highest visa certification but has the highest no of application"
   ]
  },
  {
   "cell_type": "code",
   "execution_count": 38,
   "id": "9dfe4ebd",
   "metadata": {},
   "outputs": [
    {
     "name": "stdout",
     "output_type": "stream",
     "text": [
      "case_status         Certified    Denied\n",
      "has_job_experience                     \n",
      "N                    0.561341  0.438659\n",
      "Y                    0.744764  0.255236\n"
     ]
    },
    {
     "data": {
      "image/png": "[encoded data removed]",
      "text/plain": [
       "<Figure size 720x432 with 1 Axes>"
      ]
     },
     "metadata": {
      "needs_background": "light"
     },
     "output_type": "display_data"
    }
   ],
   "source": [
    "       plot_stacked_bar_chart(data, 'has_job_experience', 'case_status')\n",
    "     "
   ]
  },
  {
   "cell_type": "markdown",
   "id": "9497801c",
   "metadata": {},
   "source": [
    "those that have job experience have a higher chance of their visa being certified with about 74%\n",
    "\n",
    "but about 56% of people who didnt have a job experience also got their visa certified"
   ]
  },
  {
   "cell_type": "code",
   "execution_count": 39,
   "id": "dd3fa0c0",
   "metadata": {},
   "outputs": [
    {
     "name": "stdout",
     "output_type": "stream",
     "text": [
      "requires_job_training         N         Y\n",
      "has_job_experience                       \n",
      "N                      0.841731  0.158269\n",
      "Y                      0.914539  0.085461\n"
     ]
    },
    {
     "data": {
      "image/png": "[encoded data removed]",
      "text/plain": [
       "<Figure size 720x432 with 1 Axes>"
      ]
     },
     "metadata": {
      "needs_background": "light"
     },
     "output_type": "display_data"
    }
   ],
   "source": [
    "       plot_stacked_bar_chart(data, 'has_job_experience', 'requires_job_training')\n",
    "     "
   ]
  },
  {
   "cell_type": "markdown",
   "id": "5c763ca5",
   "metadata": {},
   "source": [
    "minimum percentage of applicants dont require job training\n",
    "\n",
    "but less if they have job experience"
   ]
  },
  {
   "cell_type": "code",
   "execution_count": null,
   "id": "0328df9c",
   "metadata": {},
   "outputs": [],
   "source": []
  },
  {
   "cell_type": "code",
   "execution_count": 40,
   "id": "14d21254",
   "metadata": {},
   "outputs": [],
   "source": [
    "#functions to plot distributions wrt target\n",
    "\n",
    "def plot_distributions_with_target(data, predictor_column, target_column):\n",
    "    \"\"\"\n",
    "    Plot distributions of predictor and target columns with respect to the target variable.\n",
    "\n",
    "    data: DataFrame\n",
    "    predictor_column: Column name of the predictor variable\n",
    "    target_column: Column name of the target variable\n",
    "    \"\"\"\n",
    "    plt.figure(figsize=(12, 6))\n",
    "\n",
    "    # Plot distribution of the predictor variable for each target category\n",
    "    plt.subplot(1, 3, 1)\n",
    "    sns.boxplot(x=target_column, y=predictor_column, data=data)\n",
    "    plt.xlabel(target_column)\n",
    "    plt.ylabel(predictor_column)\n",
    "    plt.title(f'Distribution of {predictor_column} wrt {target_column}')\n",
    "\n",
    "    # Plot distribution of the target variable\n",
    "    plt.subplot(1, 3, 2)\n",
    "    sns.histplot(data[target_column], kde=True, color='blue')\n",
    "    plt.xlabel(target_column)\n",
    "    plt.ylabel('Frequency')\n",
    "    plt.title(f'Distribution of {target_column}')\n",
    "    \n",
    "       # Plot histogram of the predictor variable without outliers\n",
    "    plt.subplot(1, 3, 3)\n",
    "    sns.histplot(data[predictor_column], kde=True, color='skyblue')\n",
    "    plt.xlabel(predictor_column)\n",
    "    plt.ylabel('Frequency')\n",
    "    plt.title(f'Histogram of {predictor_column}')\n",
    "\n",
    "    plt.tight_layout()\n",
    "    plt.show()\n"
   ]
  },
  {
   "cell_type": "markdown",
   "id": "db6f1c99",
   "metadata": {},
   "source": [
    " How does the visa status change with the prevailing wage?"
   ]
  },
  {
   "cell_type": "code",
   "execution_count": 41,
   "id": "d06e25ad",
   "metadata": {},
   "outputs": [
    {
     "data": {
      "image/png": "[encoded data removed]",
      "text/plain": [
       "<Figure size 864x432 with 3 Axes>"
      ]
     },
     "metadata": {
      "needs_background": "light"
     },
     "output_type": "display_data"
    }
   ],
   "source": [
    "plot_distributions_with_target(data, 'prevailing_wage', 'case_status')"
   ]
  },
  {
   "cell_type": "code",
   "execution_count": 42,
   "id": "a6bb5184",
   "metadata": {},
   "outputs": [],
   "source": [
    "### function to plot distributions wrt target\n",
    "\n",
    "\n",
    "def distribution_plot_wrt_target(data, predictor, target):\n",
    "\n",
    "    fig, axs = plt.subplots(2, 2, figsize=(12, 10))\n",
    "\n",
    "    target_uniq = data[target].unique()\n",
    "\n",
    "    axs[0, 0].set_title(\"Distribution of target for target=\" + str(target_uniq[0]))\n",
    "    sns.histplot(\n",
    "        data=data[data[target] == target_uniq[0]],\n",
    "        x=predictor,\n",
    "        kde=True,\n",
    "        ax=axs[0, 0],\n",
    "        color=\"teal\",\n",
    "        stat=\"density\",\n",
    "    )\n",
    "\n",
    "    axs[0, 1].set_title(\"Distribution of target for target=\" + str(target_uniq[1]))\n",
    "    sns.histplot(\n",
    "        data=data[data[target] == target_uniq[1]],\n",
    "        x=predictor,\n",
    "        kde=True,\n",
    "        ax=axs[0, 1],\n",
    "        color=\"orange\",\n",
    "        stat=\"density\",\n",
    "    )\n",
    "\n",
    "    axs[1, 0].set_title(\"Boxplot w.r.t target\")\n",
    "    sns.boxplot(data=data, x=target, y=predictor, ax=axs[1, 0], palette=\"gist_rainbow\")\n",
    "\n",
    "    axs[1, 1].set_title(\"Boxplot (without outliers) w.r.t target\")\n",
    "    sns.boxplot(\n",
    "        data=data,\n",
    "        x=target,\n",
    "        y=predictor,\n",
    "        ax=axs[1, 1],\n",
    "        showfliers=False,\n",
    "        palette=\"gist_rainbow\",\n",
    "    )\n",
    "\n",
    "    plt.tight_layout()\n",
    "    plt.show()"
   ]
  },
  {
   "cell_type": "code",
   "execution_count": 43,
   "id": "c909bb2e",
   "metadata": {},
   "outputs": [
    {
     "data": {
      "image/png": "[encoded data removed]",
      "text/plain": [
       "<Figure size 864x720 with 4 Axes>"
      ]
     },
     "metadata": {
      "needs_background": "light"
     },
     "output_type": "display_data"
    }
   ],
   "source": [
    "distribution_plot_wrt_target(data, \"prevailing_wage\", \"case_status\")"
   ]
  },
  {
   "cell_type": "markdown",
   "id": "eba916eb",
   "metadata": {},
   "source": [
    "the median wage for the certified applications is slightly higher than the denied application\n",
    "\n",
    "but is the prevailing wage similar across all region."
   ]
  },
  {
   "cell_type": "code",
   "execution_count": 44,
   "id": "e40f4b3a",
   "metadata": {},
   "outputs": [
    {
     "data": {
      "image/png": "[encoded data removed]",
      "text/plain": [
       "<Figure size 720x360 with 1 Axes>"
      ]
     },
     "metadata": {
      "needs_background": "light"
     },
     "output_type": "display_data"
    }
   ],
   "source": [
    "#prevailing wage across regions\n",
    "plt.figure(figsize=(10, 5))\n",
    "sns.boxplot(data=data, x=\"region_of_employment\", y=\"prevailing_wage\")\n",
    "plt.show()"
   ]
  },
  {
   "cell_type": "markdown",
   "id": "642369ca",
   "metadata": {},
   "source": [
    "midwest and inland have slightly higher median wages compared to other regions"
   ]
  },
  {
   "cell_type": "code",
   "execution_count": 45,
   "id": "5b726dae",
   "metadata": {},
   "outputs": [
    {
     "name": "stdout",
     "output_type": "stream",
     "text": [
      "requires_job_training         N         Y\n",
      "has_job_experience                       \n",
      "N                      0.841731  0.158269\n",
      "Y                      0.914539  0.085461\n"
     ]
    },
    {
     "data": {
      "image/png": "[encoded data removed]",
      "text/plain": [
       "<Figure size 720x432 with 1 Axes>"
      ]
     },
     "metadata": {
      "needs_background": "light"
     },
     "output_type": "display_data"
    }
   ],
   "source": [
    "plot_stacked_bar_chart(data, 'has_job_experience', 'requires_job_training')"
   ]
  },
  {
   "cell_type": "code",
   "execution_count": 46,
   "id": "c52077d4",
   "metadata": {},
   "outputs": [
    {
     "name": "stdout",
     "output_type": "stream",
     "text": [
      "case_status   Certified    Denied\n",
      "unit_of_wage                     \n",
      "Hour           0.346314  0.653686\n",
      "Month          0.617978  0.382022\n",
      "Week           0.621324  0.378676\n",
      "Year           0.698850  0.301150\n"
     ]
    },
    {
     "data": {
      "image/png": "[encoded data removed]",
      "text/plain": [
       "<Figure size 720x432 with 1 Axes>"
      ]
     },
     "metadata": {
      "needs_background": "light"
     },
     "output_type": "display_data"
    }
   ],
   "source": [
    "#which unit of wages is most likely to be certified\n",
    "\n",
    "plot_stacked_bar_chart(data, 'unit_of_wage', 'case_status')"
   ]
  },
  {
   "cell_type": "markdown",
   "id": "f8647b37",
   "metadata": {},
   "source": [
    "yearly is most likely to be certified \n",
    "but week and month's percentage of employees certified is almost the same"
   ]
  },
  {
   "cell_type": "code",
   "execution_count": 47,
   "id": "55a6352c",
   "metadata": {},
   "outputs": [],
   "source": [
    "#to check outliers\n",
    "def detect_outliers_boxplot(data, column):\n",
    "    \"\"\"\n",
    "    Detect outliers in a column using boxplot.\n",
    "\n",
    "    data: DataFrame\n",
    "    column: Column name for which outliers need to be detected\n",
    "    \"\"\"\n",
    "    plt.figure(figsize=(8, 6))\n",
    "    sns.boxplot(data=data[column])\n",
    "    plt.xlabel(column)\n",
    "    plt.title(f'Boxplot for {column}')\n",
    "\n",
    " \n",
    "    plt.show()"
   ]
  },
  {
   "cell_type": "code",
   "execution_count": 48,
   "id": "8f966bb8",
   "metadata": {
    "scrolled": true
   },
   "outputs": [
    {
     "data": {
      "image/png": "[encoded data removed]",
      "text/plain": [
       "<Figure size 576x432 with 1 Axes>"
      ]
     },
     "metadata": {
      "needs_background": "light"
     },
     "output_type": "display_data"
    }
   ],
   "source": [
    "# List of numerical columns\n",
    "numerical_columns2 = ['yr_of_estab', 'no_of_employees', 'prevailing_wage']\n",
    "\n",
    "# Detect outliers using boxplots and the IQR method\n",
    "detect_outliers_boxplot(data, numerical_columns2)"
   ]
  },
  {
   "cell_type": "markdown",
   "id": "9f173fc0",
   "metadata": {},
   "source": [
    "##Data Preparation for modeling"
   ]
  },
  {
   "cell_type": "code",
   "execution_count": 49,
   "id": "160fff44",
   "metadata": {},
   "outputs": [
    {
     "data": {
      "text/html": [
       "<div>\n",
       "<style scoped>\n",
       "    .dataframe tbody tr th:only-of-type {\n",
       "        vertical-align: middle;\n",
       "    }\n",
       "\n",
       "    .dataframe tbody tr th {\n",
       "        vertical-align: top;\n",
       "    }\n",
       "\n",
       "    .dataframe thead th {\n",
       "        text-align: right;\n",
       "    }\n",
       "</style>\n",
       "<table border=\"1\" class=\"dataframe\">\n",
       "  <thead>\n",
       "    <tr style=\"text-align: right;\">\n",
       "      <th></th>\n",
       "      <th>continent</th>\n",
       "      <th>education_of_employee</th>\n",
       "      <th>has_job_experience</th>\n",
       "      <th>requires_job_training</th>\n",
       "      <th>no_of_employees</th>\n",
       "      <th>yr_of_estab</th>\n",
       "      <th>region_of_employment</th>\n",
       "      <th>prevailing_wage</th>\n",
       "      <th>unit_of_wage</th>\n",
       "      <th>full_time_position</th>\n",
       "      <th>case_status</th>\n",
       "    </tr>\n",
       "  </thead>\n",
       "  <tbody>\n",
       "    <tr>\n",
       "      <th>0</th>\n",
       "      <td>Asia</td>\n",
       "      <td>High School</td>\n",
       "      <td>N</td>\n",
       "      <td>N</td>\n",
       "      <td>14513</td>\n",
       "      <td>2007</td>\n",
       "      <td>West</td>\n",
       "      <td>592.2029</td>\n",
       "      <td>Hour</td>\n",
       "      <td>Y</td>\n",
       "      <td>0</td>\n",
       "    </tr>\n",
       "    <tr>\n",
       "      <th>1</th>\n",
       "      <td>Asia</td>\n",
       "      <td>Master's</td>\n",
       "      <td>Y</td>\n",
       "      <td>N</td>\n",
       "      <td>2412</td>\n",
       "      <td>2002</td>\n",
       "      <td>Northeast</td>\n",
       "      <td>83425.6500</td>\n",
       "      <td>Year</td>\n",
       "      <td>Y</td>\n",
       "      <td>1</td>\n",
       "    </tr>\n",
       "    <tr>\n",
       "      <th>2</th>\n",
       "      <td>Asia</td>\n",
       "      <td>Bachelor's</td>\n",
       "      <td>N</td>\n",
       "      <td>Y</td>\n",
       "      <td>44444</td>\n",
       "      <td>2008</td>\n",
       "      <td>West</td>\n",
       "      <td>122996.8600</td>\n",
       "      <td>Year</td>\n",
       "      <td>Y</td>\n",
       "      <td>0</td>\n",
       "    </tr>\n",
       "    <tr>\n",
       "      <th>3</th>\n",
       "      <td>Asia</td>\n",
       "      <td>Bachelor's</td>\n",
       "      <td>N</td>\n",
       "      <td>N</td>\n",
       "      <td>98</td>\n",
       "      <td>1897</td>\n",
       "      <td>West</td>\n",
       "      <td>83434.0300</td>\n",
       "      <td>Year</td>\n",
       "      <td>Y</td>\n",
       "      <td>0</td>\n",
       "    </tr>\n",
       "    <tr>\n",
       "      <th>4</th>\n",
       "      <td>Africa</td>\n",
       "      <td>Master's</td>\n",
       "      <td>Y</td>\n",
       "      <td>N</td>\n",
       "      <td>1082</td>\n",
       "      <td>2005</td>\n",
       "      <td>South</td>\n",
       "      <td>149907.3900</td>\n",
       "      <td>Year</td>\n",
       "      <td>Y</td>\n",
       "      <td>1</td>\n",
       "    </tr>\n",
       "  </tbody>\n",
       "</table>\n",
       "</div>"
      ],
      "text/plain": [
       "  continent education_of_employee has_job_experience requires_job_training  \\\n",
       "0      Asia           High School                  N                     N   \n",
       "1      Asia              Master's                  Y                     N   \n",
       "2      Asia            Bachelor's                  N                     Y   \n",
       "3      Asia            Bachelor's                  N                     N   \n",
       "4    Africa              Master's                  Y                     N   \n",
       "\n",
       "   no_of_employees  yr_of_estab region_of_employment  prevailing_wage  \\\n",
       "0            14513         2007                 West         592.2029   \n",
       "1             2412         2002            Northeast       83425.6500   \n",
       "2            44444         2008                 West      122996.8600   \n",
       "3               98         1897                 West       83434.0300   \n",
       "4             1082         2005                South      149907.3900   \n",
       "\n",
       "  unit_of_wage full_time_position  case_status  \n",
       "0         Hour                  Y            0  \n",
       "1         Year                  Y            1  \n",
       "2         Year                  Y            0  \n",
       "3         Year                  Y            0  \n",
       "4         Year                  Y            1  "
      ]
     },
     "execution_count": 49,
     "metadata": {},
     "output_type": "execute_result"
    }
   ],
   "source": [
    "data[\"case_status\"] = data[\"case_status\"].apply(lambda x: 1 if x == \"Certified\" else 0)\n",
    "data.head()\n"
   ]
  },
  {
   "cell_type": "code",
   "execution_count": 50,
   "id": "3ada10e1",
   "metadata": {},
   "outputs": [],
   "source": [
    "## Let's drop case status from the data\n",
    "X = data.drop([\"case_status\"], axis=1) \n",
    "y = data[\"case_status\"]\n",
    "\n",
    "## Let's create dummies\n",
    "X = pd.get_dummies(X, drop_first=True)  \n",
    "\n",
    "## Let's split the data into train and test in the ratio 70:30\n",
    "# Splitting data in train and test sets\n",
    "X_train, X_test, y_train, y_test = train_test_split(X, y, test_size=0.3, random_state=1, stratify=y) "
   ]
  },
  {
   "cell_type": "code",
   "execution_count": 51,
   "id": "520a3d23",
   "metadata": {},
   "outputs": [
    {
     "name": "stdout",
     "output_type": "stream",
     "text": [
      "Shape of Training set :  (17836, 21)\n",
      "Shape of test set :  (7644, 21)\n",
      "Percentage of classes in training set:\n",
      "1    0.667919\n",
      "0    0.332081\n",
      "Name: case_status, dtype: float64\n",
      "Percentage of classes in test set:\n",
      "1    0.667844\n",
      "0    0.332156\n",
      "Name: case_status, dtype: float64\n"
     ]
    }
   ],
   "source": [
    "print(\"Shape of Training set : \", X_train.shape)\n",
    "print(\"Shape of test set : \", X_test.shape)\n",
    "print(\"Percentage of classes in training set:\")\n",
    "print(y_train.value_counts(normalize=True))\n",
    "print(\"Percentage of classes in test set:\")\n",
    "print(y_test.value_counts(normalize=True))"
   ]
  },
  {
   "cell_type": "code",
   "execution_count": 52,
   "id": "13e1a661",
   "metadata": {},
   "outputs": [
    {
     "name": "stdout",
     "output_type": "stream",
     "text": [
      "Training set shape:\n",
      "X_train shape: (17836, 21)\n",
      "y_train shape: (17836,)\n",
      "\n",
      "Testing set shape:\n",
      "X_test shape: (7644, 21)\n",
      "y_test shape: (7644,)\n",
      "\n",
      "Percentage of Training set: 70.0 %\n",
      "Percentage of Test set: 30.0 %\n"
     ]
    }
   ],
   "source": [
    "print(\"Training set shape:\")\n",
    "print(\"X_train shape:\", X_train.shape)\n",
    "print(\"y_train shape:\", y_train.shape)\n",
    "\n",
    "print(\"\\nTesting set shape:\")\n",
    "print(\"X_test shape:\", X_test.shape)\n",
    "print(\"y_test shape:\", y_test.shape)\n",
    "\n",
    "# Calculate the percentage of the training and test sets relative to the total dataset\n",
    "total_samples = len(X_train) + len(X_test)\n",
    "train_percentage = (len(X_train) / total_samples) * 100\n",
    "test_percentage = (len(X_test) / total_samples) * 100\n",
    "\n",
    "print(\"\\nPercentage of Training set:\", train_percentage, \"%\")\n",
    "print(\"Percentage of Test set:\", test_percentage, \"%\")\n",
    "\n",
    "# Proceed to build and evaluate your predictive model using X_train and y_train."
   ]
  },
  {
   "cell_type": "code",
   "execution_count": null,
   "id": "5b6b7526",
   "metadata": {},
   "outputs": [],
   "source": []
  },
  {
   "cell_type": "code",
   "execution_count": null,
   "id": "6e7c204f",
   "metadata": {},
   "outputs": [],
   "source": []
  },
  {
   "cell_type": "code",
   "execution_count": 53,
   "id": "0c10c846",
   "metadata": {},
   "outputs": [],
   "source": [
    "# defining a function to compute different metrics to check performance of a classification model built using sklearn\n",
    "\n",
    "\n",
    "def model_performance_classification_sklearn(model, predictors, target):\n",
    "    \"\"\"\n",
    "    Function to compute different metrics to check classification model performance\n",
    "\n",
    "    model: classifier\n",
    "    predictors: independent variables\n",
    "    target: dependent variable\n",
    "    \"\"\"\n",
    "\n",
    "    # predicting using the independent variables\n",
    "    pred = model.predict(predictors)\n",
    "\n",
    "    acc = accuracy_score(target, pred)  # to compute Accuracy\n",
    "    recall = recall_score(target, pred)  # to compute Recall\n",
    "    precision = precision_score(target, pred)  # to compute Precision\n",
    "    f1 = f1_score(target, pred)  # to compute F1-score\n",
    "\n",
    "    # creating a dataframe of metrics\n",
    "    df_perf = pd.DataFrame(\n",
    "        {\"Accuracy\": acc, \"Recall\": recall, \"Precision\": precision, \"F1\": f1,},\n",
    "        index=[0],\n",
    "    )\n",
    "\n",
    "    return df_perf"
   ]
  },
  {
   "cell_type": "code",
   "execution_count": 54,
   "id": "60c628ac",
   "metadata": {},
   "outputs": [],
   "source": [
    "def confusion_matrix_sklearn(model, predictors, target):\n",
    "    \"\"\"\n",
    "    To plot the confusion_matrix with percentages\n",
    "\n",
    "    model: classifier\n",
    "    predictors: independent variables\n",
    "    target: dependent variable\n",
    "    \"\"\"\n",
    "    y_pred = model.predict(predictors)\n",
    "    cm = confusion_matrix(target, y_pred)\n",
    "    labels = np.asarray(\n",
    "        [\n",
    "            [\"{0:0.0f}\".format(item) + \"\\n{0:.2%}\".format(item / cm.flatten().sum())]\n",
    "            for item in cm.flatten()\n",
    "        ]\n",
    "    ).reshape(2, 2)\n",
    "\n",
    "    plt.figure(figsize=(6, 4))\n",
    "    sns.heatmap(cm, annot=labels, fmt=\"\")\n",
    "    plt.ylabel(\"True label\")\n",
    "    plt.xlabel(\"Predicted label\")"
   ]
  },
  {
   "cell_type": "code",
   "execution_count": null,
   "id": "6ed3cd79",
   "metadata": {},
   "outputs": [],
   "source": []
  },
  {
   "cell_type": "markdown",
   "id": "5407a257",
   "metadata": {},
   "source": [
    "### RANDOM FOREST"
   ]
  },
  {
   "cell_type": "code",
   "execution_count": 55,
   "id": "bf94b7e6",
   "metadata": {},
   "outputs": [
    {
     "data": {
      "text/plain": [
       "RandomForestClassifier(class_weight='balanced', random_state=1)"
      ]
     },
     "execution_count": 55,
     "metadata": {},
     "output_type": "execute_result"
    }
   ],
   "source": [
    "from sklearn.model_selection import train_test_split\n",
    "from sklearn.ensemble import RandomForestClassifier\n",
    "from sklearn.metrics import accuracy_score, classification_report\n",
    "\n",
    "# Initialize and train the Random Forest classifier\n",
    "rf_estimator = RandomForestClassifier(class_weight=\"balanced\", random_state=1)\n",
    "rf_estimator.fit(X_train, y_train)\n",
    "\n"
   ]
  },
  {
   "cell_type": "markdown",
   "id": "28366c31",
   "metadata": {},
   "source": [
    "Checking model performance on training set"
   ]
  },
  {
   "cell_type": "code",
   "execution_count": 56,
   "id": "9ba8a360",
   "metadata": {
    "scrolled": false
   },
   "outputs": [
    {
     "data": {
      "image/png": "[encoded data removed]",
      "text/plain": [
       "<Figure size 432x288 with 2 Axes>"
      ]
     },
     "metadata": {
      "needs_background": "light"
     },
     "output_type": "display_data"
    }
   ],
   "source": [
    "## matrix for train data\n",
    "confusion_matrix_sklearn(rf_estimator,X_train,y_train)"
   ]
  },
  {
   "cell_type": "code",
   "execution_count": 57,
   "id": "f5c6204b",
   "metadata": {},
   "outputs": [
    {
     "name": "stdout",
     "output_type": "stream",
     "text": [
      "Accuracy: 0.999943933617403\n",
      "Classification Report:\n",
      "               precision    recall  f1-score   support\n",
      "\n",
      "           0       1.00      1.00      1.00      5923\n",
      "           1       1.00      1.00      1.00     11913\n",
      "\n",
      "    accuracy                           1.00     17836\n",
      "   macro avg       1.00      1.00      1.00     17836\n",
      "weighted avg       1.00      1.00      1.00     17836\n",
      "\n"
     ]
    }
   ],
   "source": [
    "# train performance\n",
    "y_pred1 = rf_estimator.predict(X_train)\n",
    "\n",
    "# Evaluate the model\n",
    "print(\"Accuracy:\", accuracy_score(y_train, y_pred1))\n",
    "print(\"Classification Report:\\n\", classification_report(y_train, y_pred1))"
   ]
  },
  {
   "cell_type": "code",
   "execution_count": 58,
   "id": "e0ec47ed",
   "metadata": {},
   "outputs": [
    {
     "data": {
      "text/html": [
       "<div>\n",
       "<style scoped>\n",
       "    .dataframe tbody tr th:only-of-type {\n",
       "        vertical-align: middle;\n",
       "    }\n",
       "\n",
       "    .dataframe tbody tr th {\n",
       "        vertical-align: top;\n",
       "    }\n",
       "\n",
       "    .dataframe thead th {\n",
       "        text-align: right;\n",
       "    }\n",
       "</style>\n",
       "<table border=\"1\" class=\"dataframe\">\n",
       "  <thead>\n",
       "    <tr style=\"text-align: right;\">\n",
       "      <th></th>\n",
       "      <th>Accuracy</th>\n",
       "      <th>Recall</th>\n",
       "      <th>Precision</th>\n",
       "      <th>F1</th>\n",
       "    </tr>\n",
       "  </thead>\n",
       "  <tbody>\n",
       "    <tr>\n",
       "      <th>0</th>\n",
       "      <td>0.999944</td>\n",
       "      <td>0.999916</td>\n",
       "      <td>1.0</td>\n",
       "      <td>0.999958</td>\n",
       "    </tr>\n",
       "  </tbody>\n",
       "</table>\n",
       "</div>"
      ],
      "text/plain": [
       "   Accuracy    Recall  Precision        F1\n",
       "0  0.999944  0.999916        1.0  0.999958"
      ]
     },
     "execution_count": 58,
     "metadata": {},
     "output_type": "execute_result"
    }
   ],
   "source": [
    "# performance on train data\n",
    "rf_estimator_model_train_perf = model_performance_classification_sklearn(rf_estimator,X_train,y_train) \n",
    "rf_estimator_model_train_perf"
   ]
  },
  {
   "cell_type": "markdown",
   "id": "8c4dd261",
   "metadata": {},
   "source": [
    "Checking model performance on test set"
   ]
  },
  {
   "cell_type": "code",
   "execution_count": 59,
   "id": "b47ef0b0",
   "metadata": {},
   "outputs": [
    {
     "data": {
      "image/png": "[encoded data removed]",
      "text/plain": [
       "<Figure size 432x288 with 2 Axes>"
      ]
     },
     "metadata": {
      "needs_background": "light"
     },
     "output_type": "display_data"
    }
   ],
   "source": [
    "# confusion matrix for test data\n",
    "confusion_matrix_sklearn(rf_estimator,X_test,y_test) "
   ]
  },
  {
   "cell_type": "code",
   "execution_count": 60,
   "id": "61056e6d",
   "metadata": {
    "scrolled": true
   },
   "outputs": [
    {
     "name": "stdout",
     "output_type": "stream",
     "text": [
      "Accuracy: 0.7210884353741497\n",
      "Classification Report:\n",
      "               precision    recall  f1-score   support\n",
      "\n",
      "           0       0.60      0.48      0.53      2539\n",
      "           1       0.76      0.84      0.80      5105\n",
      "\n",
      "    accuracy                           0.72      7644\n",
      "   macro avg       0.68      0.66      0.67      7644\n",
      "weighted avg       0.71      0.72      0.71      7644\n",
      "\n"
     ]
    }
   ],
   "source": [
    "# performance of the test set\n",
    "y_pred = rf_estimator.predict(X_test)\n",
    "\n",
    "# Evaluate the model\n",
    "print(\"Accuracy:\", accuracy_score(y_test, y_pred))\n",
    "print(\"Classification Report:\\n\", classification_report(y_test, y_pred))"
   ]
  },
  {
   "cell_type": "code",
   "execution_count": 61,
   "id": "3c579d89",
   "metadata": {},
   "outputs": [
    {
     "data": {
      "text/html": [
       "<div>\n",
       "<style scoped>\n",
       "    .dataframe tbody tr th:only-of-type {\n",
       "        vertical-align: middle;\n",
       "    }\n",
       "\n",
       "    .dataframe tbody tr th {\n",
       "        vertical-align: top;\n",
       "    }\n",
       "\n",
       "    .dataframe thead th {\n",
       "        text-align: right;\n",
       "    }\n",
       "</style>\n",
       "<table border=\"1\" class=\"dataframe\">\n",
       "  <thead>\n",
       "    <tr style=\"text-align: right;\">\n",
       "      <th></th>\n",
       "      <th>Accuracy</th>\n",
       "      <th>Recall</th>\n",
       "      <th>Precision</th>\n",
       "      <th>F1</th>\n",
       "    </tr>\n",
       "  </thead>\n",
       "  <tbody>\n",
       "    <tr>\n",
       "      <th>0</th>\n",
       "      <td>0.721088</td>\n",
       "      <td>0.840744</td>\n",
       "      <td>0.764926</td>\n",
       "      <td>0.801045</td>\n",
       "    </tr>\n",
       "  </tbody>\n",
       "</table>\n",
       "</div>"
      ],
      "text/plain": [
       "   Accuracy    Recall  Precision        F1\n",
       "0  0.721088  0.840744   0.764926  0.801045"
      ]
     },
     "execution_count": 61,
     "metadata": {},
     "output_type": "execute_result"
    }
   ],
   "source": [
    "## Let's check performance for test data\n",
    "rf_estimator_model_test_perf = model_performance_classification_sklearn(rf_estimator,X_test,y_test) \n",
    "rf_estimator_model_test_perf"
   ]
  },
  {
   "cell_type": "markdown",
   "id": "e8054970",
   "metadata": {},
   "source": [
    "the model seems to be performing well on the train set with almost perfect accuracy, precision, recall, and F1-score for both classes. \n",
    "\n",
    "However, it is not generalizing as well on the test set, as evidenced by lower accuracy and F1-score. \n",
    "\n",
    "There might be some overfitting on the training data, and further tuning or regularization techniques may be necessary to improve the model's performance on unseen data."
   ]
  },
  {
   "cell_type": "markdown",
   "id": "cac2a2ba",
   "metadata": {},
   "source": [
    "#### Hyperparameter Tuning - Random Forest"
   ]
  },
  {
   "cell_type": "code",
   "execution_count": 62,
   "id": "93a2a83d",
   "metadata": {},
   "outputs": [
    {
     "data": {
      "text/plain": [
       "RandomForestClassifier(max_depth=10, max_features='sqrt', min_samples_split=7,\n",
       "                       n_estimators=20, oob_score=True, random_state=1)"
      ]
     },
     "execution_count": 62,
     "metadata": {},
     "output_type": "execute_result"
    }
   ],
   "source": [
    "# Choose the type of classifier.\n",
    "rf_tuned = RandomForestClassifier(random_state=1, oob_score=True, bootstrap=True)\n",
    "\n",
    "parameters = {\n",
    "    \"max_depth\": list(np.arange(5, 15, 5)),\n",
    "    \"max_features\": [\"sqrt\", \"log2\"],\n",
    "    \"min_samples_split\": [3, 5, 7],\n",
    "    \"n_estimators\": np.arange(10, 40, 10),\n",
    "}\n",
    "\n",
    "# Type of scoring used to compare parameter combinations\n",
    "acc_scorer = metrics.make_scorer(metrics.f1_score)\n",
    "\n",
    "# Run the grid search\n",
    "grid_obj = GridSearchCV(rf_tuned, parameters, scoring=acc_scorer, cv=5, n_jobs=-1)\n",
    "grid_obj = grid_obj.fit(X_train, y_train)\n",
    "\n",
    "# Set the clf to the best combination of parameters\n",
    "rf_tuned = grid_obj.best_estimator_\n",
    "\n",
    "# Fit the best algorithm to the data.\n",
    "rf_tuned.fit(X_train, y_train)"
   ]
  },
  {
   "cell_type": "code",
   "execution_count": 63,
   "id": "4cee4590",
   "metadata": {},
   "outputs": [
    {
     "data": {
      "image/png": "[encoded data removed]",
      "text/plain": [
       "<Figure size 432x288 with 2 Axes>"
      ]
     },
     "metadata": {
      "needs_background": "light"
     },
     "output_type": "display_data"
    }
   ],
   "source": [
    "confusion_matrix_sklearn(rf_tuned,X_train,y_train)"
   ]
  },
  {
   "cell_type": "code",
   "execution_count": 64,
   "id": "0d734171",
   "metadata": {},
   "outputs": [
    {
     "name": "stdout",
     "output_type": "stream",
     "text": [
      "Accuracy: 0.7691186364655752\n",
      "Classification Report:\n",
      "               precision    recall  f1-score   support\n",
      "\n",
      "           0       0.74      0.47      0.57      5923\n",
      "           1       0.78      0.92      0.84     11913\n",
      "\n",
      "    accuracy                           0.77     17836\n",
      "   macro avg       0.76      0.69      0.71     17836\n",
      "weighted avg       0.76      0.77      0.75     17836\n",
      "\n"
     ]
    }
   ],
   "source": [
    "# train performance\n",
    "y_pred1 = rf_tuned.predict(X_train)\n",
    "\n",
    "# Evaluate the model\n",
    "print(\"Accuracy:\", accuracy_score(y_train, y_pred1))\n",
    "print(\"Classification Report:\\n\", classification_report(y_train, y_pred1))"
   ]
  },
  {
   "cell_type": "code",
   "execution_count": null,
   "id": "162cfeb2",
   "metadata": {},
   "outputs": [],
   "source": []
  },
  {
   "cell_type": "code",
   "execution_count": 65,
   "id": "8db43c69",
   "metadata": {},
   "outputs": [
    {
     "data": {
      "image/png": "[encoded data removed]",
      "text/plain": [
       "<Figure size 432x288 with 2 Axes>"
      ]
     },
     "metadata": {
      "needs_background": "light"
     },
     "output_type": "display_data"
    }
   ],
   "source": [
    "# confusion matrix for test data\n",
    "confusion_matrix_sklearn(rf_tuned,X_test,y_test) "
   ]
  },
  {
   "cell_type": "code",
   "execution_count": 66,
   "id": "29de089c",
   "metadata": {
    "scrolled": true
   },
   "outputs": [
    {
     "name": "stdout",
     "output_type": "stream",
     "text": [
      "Accuracy: 0.7380952380952381\n",
      "Classification Report:\n",
      "               precision    recall  f1-score   support\n",
      "\n",
      "           0       0.67      0.41      0.51      2539\n",
      "           1       0.76      0.90      0.82      5105\n",
      "\n",
      "    accuracy                           0.74      7644\n",
      "   macro avg       0.71      0.66      0.67      7644\n",
      "weighted avg       0.73      0.74      0.72      7644\n",
      "\n"
     ]
    }
   ],
   "source": [
    "# performance of the test set\n",
    "y_pred = rf_tuned.predict(X_test)\n",
    "\n",
    "# Evaluate the model\n",
    "print(\"Accuracy:\", accuracy_score(y_test, y_pred))\n",
    "print(\"Classification Report:\\n\", classification_report(y_test, y_pred))"
   ]
  },
  {
   "cell_type": "code",
   "execution_count": 102,
   "id": "ed039783",
   "metadata": {},
   "outputs": [
    {
     "data": {
      "text/html": [
       "<div>\n",
       "<style scoped>\n",
       "    .dataframe tbody tr th:only-of-type {\n",
       "        vertical-align: middle;\n",
       "    }\n",
       "\n",
       "    .dataframe tbody tr th {\n",
       "        vertical-align: top;\n",
       "    }\n",
       "\n",
       "    .dataframe thead th {\n",
       "        text-align: right;\n",
       "    }\n",
       "</style>\n",
       "<table border=\"1\" class=\"dataframe\">\n",
       "  <thead>\n",
       "    <tr style=\"text-align: right;\">\n",
       "      <th></th>\n",
       "      <th>Accuracy</th>\n",
       "      <th>Recall</th>\n",
       "      <th>Precision</th>\n",
       "      <th>F1</th>\n",
       "    </tr>\n",
       "  </thead>\n",
       "  <tbody>\n",
       "    <tr>\n",
       "      <th>0</th>\n",
       "      <td>0.769119</td>\n",
       "      <td>0.91866</td>\n",
       "      <td>0.776556</td>\n",
       "      <td>0.841652</td>\n",
       "    </tr>\n",
       "  </tbody>\n",
       "</table>\n",
       "</div>"
      ],
      "text/plain": [
       "   Accuracy   Recall  Precision        F1\n",
       "0  0.769119  0.91866   0.776556  0.841652"
      ]
     },
     "execution_count": 102,
     "metadata": {},
     "output_type": "execute_result"
    }
   ],
   "source": [
    "rf_tuned_model_train_perf = model_performance_classification_sklearn(rf_tuned,X_train,y_train) \n",
    "rf_tuned_model_train_perf"
   ]
  },
  {
   "cell_type": "code",
   "execution_count": 103,
   "id": "c6aa89f4",
   "metadata": {},
   "outputs": [
    {
     "data": {
      "text/html": [
       "<div>\n",
       "<style scoped>\n",
       "    .dataframe tbody tr th:only-of-type {\n",
       "        vertical-align: middle;\n",
       "    }\n",
       "\n",
       "    .dataframe tbody tr th {\n",
       "        vertical-align: top;\n",
       "    }\n",
       "\n",
       "    .dataframe thead th {\n",
       "        text-align: right;\n",
       "    }\n",
       "</style>\n",
       "<table border=\"1\" class=\"dataframe\">\n",
       "  <thead>\n",
       "    <tr style=\"text-align: right;\">\n",
       "      <th></th>\n",
       "      <th>Accuracy</th>\n",
       "      <th>Recall</th>\n",
       "      <th>Precision</th>\n",
       "      <th>F1</th>\n",
       "    </tr>\n",
       "  </thead>\n",
       "  <tbody>\n",
       "    <tr>\n",
       "      <th>0</th>\n",
       "      <td>0.738095</td>\n",
       "      <td>0.898923</td>\n",
       "      <td>0.755391</td>\n",
       "      <td>0.82093</td>\n",
       "    </tr>\n",
       "  </tbody>\n",
       "</table>\n",
       "</div>"
      ],
      "text/plain": [
       "   Accuracy    Recall  Precision       F1\n",
       "0  0.738095  0.898923   0.755391  0.82093"
      ]
     },
     "execution_count": 103,
     "metadata": {},
     "output_type": "execute_result"
    }
   ],
   "source": [
    "rf_tuned_model_test_perf = model_performance_classification_sklearn(rf_tuned,X_test,y_test) \n",
    "rf_tuned_model_test_perf"
   ]
  },
  {
   "cell_type": "markdown",
   "id": "7a3023ea",
   "metadata": {},
   "source": [
    "After hyperparameter tuning the model performance has generalized.\n",
    "\n",
    "We have an F1 score of 0.84 and 0.82 on the training and test data, respectively.\n",
    "\n",
    "The model has a high recall and a good precision."
   ]
  },
  {
   "cell_type": "markdown",
   "id": "78413d85",
   "metadata": {},
   "source": [
    "### decision tree"
   ]
  },
  {
   "cell_type": "code",
   "execution_count": 67,
   "id": "678ae08b",
   "metadata": {},
   "outputs": [
    {
     "data": {
      "text/plain": [
       "DecisionTreeClassifier(random_state=1)"
      ]
     },
     "execution_count": 67,
     "metadata": {},
     "output_type": "execute_result"
    }
   ],
   "source": [
    "dtree = DecisionTreeClassifier(random_state=1)\n",
    "dtree.fit(X_train, y_train)"
   ]
  },
  {
   "cell_type": "markdown",
   "id": "bb8eb90a",
   "metadata": {},
   "source": [
    "performance on test set"
   ]
  },
  {
   "cell_type": "code",
   "execution_count": 68,
   "id": "0e176c11",
   "metadata": {},
   "outputs": [
    {
     "data": {
      "image/png": "[encoded data removed]",
      "text/plain": [
       "<Figure size 432x288 with 2 Axes>"
      ]
     },
     "metadata": {
      "needs_background": "light"
     },
     "output_type": "display_data"
    }
   ],
   "source": [
    "confusion_matrix_sklearn(dtree, X_train, y_train)"
   ]
  },
  {
   "cell_type": "code",
   "execution_count": 69,
   "id": "a525dece",
   "metadata": {},
   "outputs": [
    {
     "name": "stdout",
     "output_type": "stream",
     "text": [
      "Accuracy: 1.0\n",
      "Classification Report:\n",
      "               precision    recall  f1-score   support\n",
      "\n",
      "           0       1.00      1.00      1.00      5923\n",
      "           1       1.00      1.00      1.00     11913\n",
      "\n",
      "    accuracy                           1.00     17836\n",
      "   macro avg       1.00      1.00      1.00     17836\n",
      "weighted avg       1.00      1.00      1.00     17836\n",
      "\n"
     ]
    }
   ],
   "source": [
    "# train performance\n",
    "y_pred1 = dtree.predict(X_train)\n",
    "\n",
    "# Evaluate the model\n",
    "print(\"Accuracy:\", accuracy_score(y_train, y_pred1))\n",
    "print(\"Classification Report:\\n\", classification_report(y_train, y_pred1))"
   ]
  },
  {
   "cell_type": "markdown",
   "id": "84093ab6",
   "metadata": {},
   "source": [
    "performance on test set"
   ]
  },
  {
   "cell_type": "code",
   "execution_count": 70,
   "id": "b5996427",
   "metadata": {},
   "outputs": [
    {
     "data": {
      "image/png": "[encoded data removed]",
      "text/plain": [
       "<Figure size 432x288 with 2 Axes>"
      ]
     },
     "metadata": {
      "needs_background": "light"
     },
     "output_type": "display_data"
    }
   ],
   "source": [
    "## Let's create confusion matrix for test data\n",
    "confusion_matrix_sklearn(dtree, X_test, y_test)"
   ]
  },
  {
   "cell_type": "code",
   "execution_count": 71,
   "id": "1559369e",
   "metadata": {
    "scrolled": true
   },
   "outputs": [
    {
     "name": "stdout",
     "output_type": "stream",
     "text": [
      "Accuracy: 0.6648351648351648\n",
      "Classification Report:\n",
      "               precision    recall  f1-score   support\n",
      "\n",
      "           0       0.50      0.51      0.50      2539\n",
      "           1       0.75      0.74      0.75      5105\n",
      "\n",
      "    accuracy                           0.66      7644\n",
      "   macro avg       0.62      0.63      0.62      7644\n",
      "weighted avg       0.67      0.66      0.67      7644\n",
      "\n"
     ]
    }
   ],
   "source": [
    "# performance of the test set\n",
    "y_pred = dtree.predict(X_test)\n",
    "\n",
    "# Evaluate the model\n",
    "print(\"Accuracy:\", accuracy_score(y_test, y_pred))\n",
    "print(\"Classification Report:\\n\", classification_report(y_test, y_pred))"
   ]
  },
  {
   "cell_type": "code",
   "execution_count": 98,
   "id": "7650e9c1",
   "metadata": {},
   "outputs": [
    {
     "data": {
      "text/html": [
       "<div>\n",
       "<style scoped>\n",
       "    .dataframe tbody tr th:only-of-type {\n",
       "        vertical-align: middle;\n",
       "    }\n",
       "\n",
       "    .dataframe tbody tr th {\n",
       "        vertical-align: top;\n",
       "    }\n",
       "\n",
       "    .dataframe thead th {\n",
       "        text-align: right;\n",
       "    }\n",
       "</style>\n",
       "<table border=\"1\" class=\"dataframe\">\n",
       "  <thead>\n",
       "    <tr style=\"text-align: right;\">\n",
       "      <th></th>\n",
       "      <th>Accuracy</th>\n",
       "      <th>Recall</th>\n",
       "      <th>Precision</th>\n",
       "      <th>F1</th>\n",
       "    </tr>\n",
       "  </thead>\n",
       "  <tbody>\n",
       "    <tr>\n",
       "      <th>0</th>\n",
       "      <td>1.0</td>\n",
       "      <td>1.0</td>\n",
       "      <td>1.0</td>\n",
       "      <td>1.0</td>\n",
       "    </tr>\n",
       "  </tbody>\n",
       "</table>\n",
       "</div>"
      ],
      "text/plain": [
       "   Accuracy  Recall  Precision   F1\n",
       "0       1.0     1.0        1.0  1.0"
      ]
     },
     "execution_count": 98,
     "metadata": {},
     "output_type": "execute_result"
    }
   ],
   "source": [
    "## Let's check the performance on train data\n",
    "decision_tree_perf_train = model_performance_classification_sklearn(dtree, X_train, y_train) \n",
    "decision_tree_perf_train"
   ]
  },
  {
   "cell_type": "code",
   "execution_count": 99,
   "id": "f589d613",
   "metadata": {},
   "outputs": [
    {
     "data": {
      "text/html": [
       "<div>\n",
       "<style scoped>\n",
       "    .dataframe tbody tr th:only-of-type {\n",
       "        vertical-align: middle;\n",
       "    }\n",
       "\n",
       "    .dataframe tbody tr th {\n",
       "        vertical-align: top;\n",
       "    }\n",
       "\n",
       "    .dataframe thead th {\n",
       "        text-align: right;\n",
       "    }\n",
       "</style>\n",
       "<table border=\"1\" class=\"dataframe\">\n",
       "  <thead>\n",
       "    <tr style=\"text-align: right;\">\n",
       "      <th></th>\n",
       "      <th>Accuracy</th>\n",
       "      <th>Recall</th>\n",
       "      <th>Precision</th>\n",
       "      <th>F1</th>\n",
       "    </tr>\n",
       "  </thead>\n",
       "  <tbody>\n",
       "    <tr>\n",
       "      <th>0</th>\n",
       "      <td>0.664835</td>\n",
       "      <td>0.742801</td>\n",
       "      <td>0.752232</td>\n",
       "      <td>0.747487</td>\n",
       "    </tr>\n",
       "  </tbody>\n",
       "</table>\n",
       "</div>"
      ],
      "text/plain": [
       "   Accuracy    Recall  Precision        F1\n",
       "0  0.664835  0.742801   0.752232  0.747487"
      ]
     },
     "execution_count": 99,
     "metadata": {},
     "output_type": "execute_result"
    }
   ],
   "source": [
    "## Let's check performance for test data\n",
    "decision_tree_perf_test = model_performance_classification_sklearn(dtree, X_test, y_test)\n",
    "decision_tree_perf_test"
   ]
  },
  {
   "cell_type": "markdown",
   "id": "32274b7c",
   "metadata": {},
   "source": [
    "the performance on the training set is significantly better than on the test set, \n",
    "\n",
    "which indicates a potential overfitting issue. "
   ]
  },
  {
   "cell_type": "code",
   "execution_count": null,
   "id": "7bdba491",
   "metadata": {},
   "outputs": [],
   "source": []
  },
  {
   "cell_type": "markdown",
   "id": "1e36452d",
   "metadata": {},
   "source": [
    "#### Hyperparameter Tuning - decision tree Classifier"
   ]
  },
  {
   "cell_type": "code",
   "execution_count": 72,
   "id": "c4aa5c73",
   "metadata": {},
   "outputs": [
    {
     "data": {
      "text/plain": [
       "DecisionTreeClassifier(class_weight='balanced', max_depth=10, max_leaf_nodes=2,\n",
       "                       min_impurity_decrease=0.0001, min_samples_leaf=3,\n",
       "                       random_state=1)"
      ]
     },
     "execution_count": 72,
     "metadata": {},
     "output_type": "execute_result"
    }
   ],
   "source": [
    "# Choose the type of classifier.\n",
    "dtree_estimator = DecisionTreeClassifier(class_weight=\"balanced\", random_state=1)\n",
    "\n",
    "# Grid of parameters to choose from\n",
    "parameters = {\n",
    "    \"max_depth\": np.arange(10, 30, 5),\n",
    "    \"min_samples_leaf\": [3, 5, 7],\n",
    "    \"max_leaf_nodes\": [2, 3, 5],\n",
    "    \"min_impurity_decrease\": [0.0001, 0.001],\n",
    "}\n",
    "\n",
    "# Type of scoring used to compare parameter combinations\n",
    "scorer = metrics.make_scorer(metrics.f1_score)\n",
    "\n",
    "## Run grid search with n_jobs = -1\n",
    "grid_obj = GridSearchCV(dtree_estimator, parameters, scoring=scorer, n_jobs=-1)  \n",
    "\n",
    "## Code to fit the grid_obj on the train data\n",
    "grid_obj = grid_obj.fit(X_train, y_train)\n",
    "\n",
    "# Set the clf to the best combination of parameters\n",
    "dtree_estimator = grid_obj.best_estimator_\n",
    "\n",
    "# Fit the best algorithm to the data.\n",
    "dtree_estimator.fit(X_train, y_train)"
   ]
  },
  {
   "cell_type": "markdown",
   "id": "ab6c888a",
   "metadata": {},
   "source": [
    "performance on train set"
   ]
  },
  {
   "cell_type": "code",
   "execution_count": 73,
   "id": "f57cb0a8",
   "metadata": {},
   "outputs": [
    {
     "data": {
      "image/png": "[encoded data removed]",
      "text/plain": [
       "<Figure size 432x288 with 2 Axes>"
      ]
     },
     "metadata": {
      "needs_background": "light"
     },
     "output_type": "display_data"
    }
   ],
   "source": [
    "confusion_matrix_sklearn(dtree_estimator, X_train,y_train)"
   ]
  },
  {
   "cell_type": "code",
   "execution_count": 74,
   "id": "585eb2bb",
   "metadata": {},
   "outputs": [
    {
     "name": "stdout",
     "output_type": "stream",
     "text": [
      "Accuracy: 0.7125476564252075\n",
      "Classification Report:\n",
      "               precision    recall  f1-score   support\n",
      "\n",
      "           0       0.66      0.27      0.39      5923\n",
      "           1       0.72      0.93      0.81     11913\n",
      "\n",
      "    accuracy                           0.71     17836\n",
      "   macro avg       0.69      0.60      0.60     17836\n",
      "weighted avg       0.70      0.71      0.67     17836\n",
      "\n"
     ]
    }
   ],
   "source": [
    "# train performance\n",
    "y_pred1 = dtree_estimator.predict(X_train)\n",
    "\n",
    "# Evaluate the model\n",
    "print(\"Accuracy:\", accuracy_score(y_train, y_pred1))\n",
    "print(\"Classification Report:\\n\", classification_report(y_train, y_pred1))"
   ]
  },
  {
   "cell_type": "markdown",
   "id": "480c4bfa",
   "metadata": {},
   "source": [
    "performance on test set"
   ]
  },
  {
   "cell_type": "code",
   "execution_count": 75,
   "id": "55c5eda6",
   "metadata": {},
   "outputs": [
    {
     "data": {
      "image/png": "[encoded data removed]",
      "text/plain": [
       "<Figure size 432x288 with 2 Axes>"
      ]
     },
     "metadata": {
      "needs_background": "light"
     },
     "output_type": "display_data"
    }
   ],
   "source": [
    "confusion_matrix_sklearn(dtree_estimator, X_test,y_test) "
   ]
  },
  {
   "cell_type": "code",
   "execution_count": 76,
   "id": "4bee0dce",
   "metadata": {
    "scrolled": true
   },
   "outputs": [
    {
     "name": "stdout",
     "output_type": "stream",
     "text": [
      "Accuracy: 0.706567242281528\n",
      "Classification Report:\n",
      "               precision    recall  f1-score   support\n",
      "\n",
      "           0       0.65      0.26      0.37      2539\n",
      "           1       0.72      0.93      0.81      5105\n",
      "\n",
      "    accuracy                           0.71      7644\n",
      "   macro avg       0.68      0.59      0.59      7644\n",
      "weighted avg       0.69      0.71      0.66      7644\n",
      "\n"
     ]
    }
   ],
   "source": [
    "# performance of the test set\n",
    "y_pred = dtree_estimator.predict(X_test)\n",
    "\n",
    "# Evaluate the model\n",
    "print(\"Accuracy:\", accuracy_score(y_test, y_pred))\n",
    "print(\"Classification Report:\\n\", classification_report(y_test, y_pred))"
   ]
  },
  {
   "cell_type": "code",
   "execution_count": 100,
   "id": "d051a196",
   "metadata": {},
   "outputs": [
    {
     "data": {
      "text/html": [
       "<div>\n",
       "<style scoped>\n",
       "    .dataframe tbody tr th:only-of-type {\n",
       "        vertical-align: middle;\n",
       "    }\n",
       "\n",
       "    .dataframe tbody tr th {\n",
       "        vertical-align: top;\n",
       "    }\n",
       "\n",
       "    .dataframe thead th {\n",
       "        text-align: right;\n",
       "    }\n",
       "</style>\n",
       "<table border=\"1\" class=\"dataframe\">\n",
       "  <thead>\n",
       "    <tr style=\"text-align: right;\">\n",
       "      <th></th>\n",
       "      <th>Accuracy</th>\n",
       "      <th>Recall</th>\n",
       "      <th>Precision</th>\n",
       "      <th>F1</th>\n",
       "    </tr>\n",
       "  </thead>\n",
       "  <tbody>\n",
       "    <tr>\n",
       "      <th>0</th>\n",
       "      <td>0.712548</td>\n",
       "      <td>0.931923</td>\n",
       "      <td>0.720067</td>\n",
       "      <td>0.812411</td>\n",
       "    </tr>\n",
       "  </tbody>\n",
       "</table>\n",
       "</div>"
      ],
      "text/plain": [
       "   Accuracy    Recall  Precision        F1\n",
       "0  0.712548  0.931923   0.720067  0.812411"
      ]
     },
     "execution_count": 100,
     "metadata": {},
     "output_type": "execute_result"
    }
   ],
   "source": [
    "## Let's check performance\n",
    "dtree_tuned_model_train_perf = model_performance_classification_sklearn(dtree_estimator, X_train,y_train) \n",
    "dtree_tuned_model_train_perf"
   ]
  },
  {
   "cell_type": "code",
   "execution_count": 101,
   "id": "e10c83a2",
   "metadata": {},
   "outputs": [
    {
     "data": {
      "text/html": [
       "<div>\n",
       "<style scoped>\n",
       "    .dataframe tbody tr th:only-of-type {\n",
       "        vertical-align: middle;\n",
       "    }\n",
       "\n",
       "    .dataframe tbody tr th {\n",
       "        vertical-align: top;\n",
       "    }\n",
       "\n",
       "    .dataframe thead th {\n",
       "        text-align: right;\n",
       "    }\n",
       "</style>\n",
       "<table border=\"1\" class=\"dataframe\">\n",
       "  <thead>\n",
       "    <tr style=\"text-align: right;\">\n",
       "      <th></th>\n",
       "      <th>Accuracy</th>\n",
       "      <th>Recall</th>\n",
       "      <th>Precision</th>\n",
       "      <th>F1</th>\n",
       "    </tr>\n",
       "  </thead>\n",
       "  <tbody>\n",
       "    <tr>\n",
       "      <th>0</th>\n",
       "      <td>0.706567</td>\n",
       "      <td>0.930852</td>\n",
       "      <td>0.715447</td>\n",
       "      <td>0.809058</td>\n",
       "    </tr>\n",
       "  </tbody>\n",
       "</table>\n",
       "</div>"
      ],
      "text/plain": [
       "   Accuracy    Recall  Precision        F1\n",
       "0  0.706567  0.930852   0.715447  0.809058"
      ]
     },
     "execution_count": 101,
     "metadata": {},
     "output_type": "execute_result"
    }
   ],
   "source": [
    "## Let's check performance for test data on tuned estimator\n",
    "dtree_tuned_model_test_perf = model_performance_classification_sklearn(dtree_estimator, X_test, y_test) \n",
    "dtree_tuned_model_test_perf"
   ]
  },
  {
   "cell_type": "markdown",
   "id": "5d907d36",
   "metadata": {},
   "source": [
    " the decision tree classifier achieved a relatively higher accuracy and F1-score for class 1, \n",
    " \n",
    " indicating that it is better at correctly classifying instances of class 1. \n",
    " \n",
    " However, its performance on class 0 is lower, as evident from the lower recall and F1-score for class 0. "
   ]
  },
  {
   "cell_type": "code",
   "execution_count": null,
   "id": "2dfdbd2a",
   "metadata": {},
   "outputs": [],
   "source": []
  },
  {
   "cell_type": "markdown",
   "id": "78a2d67d",
   "metadata": {},
   "source": [
    "### AdaBoost Classifier"
   ]
  },
  {
   "cell_type": "code",
   "execution_count": 77,
   "id": "5d74c94c",
   "metadata": {},
   "outputs": [
    {
     "data": {
      "text/plain": [
       "AdaBoostClassifier(random_state=1)"
      ]
     },
     "execution_count": 77,
     "metadata": {},
     "output_type": "execute_result"
    }
   ],
   "source": [
    "ab_classifier = AdaBoostClassifier(random_state=1) \n",
    "ab_classifier.fit(X_train,y_train)\n"
   ]
  },
  {
   "cell_type": "markdown",
   "id": "6daded5e",
   "metadata": {},
   "source": [
    "model performance on train set"
   ]
  },
  {
   "cell_type": "code",
   "execution_count": 78,
   "id": "e4e9639c",
   "metadata": {},
   "outputs": [
    {
     "data": {
      "image/png": "[encoded data removed]",
      "text/plain": [
       "<Figure size 432x288 with 2 Axes>"
      ]
     },
     "metadata": {
      "needs_background": "light"
     },
     "output_type": "display_data"
    }
   ],
   "source": [
    "confusion_matrix_sklearn(ab_classifier,X_train,y_train)"
   ]
  },
  {
   "cell_type": "code",
   "execution_count": 79,
   "id": "19d094d3",
   "metadata": {},
   "outputs": [
    {
     "name": "stdout",
     "output_type": "stream",
     "text": [
      "Accuracy: 0.7382260596546311\n",
      "Classification Report:\n",
      "               precision    recall  f1-score   support\n",
      "\n",
      "           0       0.66      0.44      0.53      5923\n",
      "           1       0.76      0.89      0.82     11913\n",
      "\n",
      "    accuracy                           0.74     17836\n",
      "   macro avg       0.71      0.66      0.67     17836\n",
      "weighted avg       0.73      0.74      0.72     17836\n",
      "\n"
     ]
    }
   ],
   "source": [
    "# train performance\n",
    "y_pred1 = ab_classifier.predict(X_train)\n",
    "\n",
    "# Evaluate the model\n",
    "print(\"Accuracy:\", accuracy_score(y_train, y_pred1))\n",
    "print(\"Classification Report:\\n\", classification_report(y_train, y_pred1))"
   ]
  },
  {
   "cell_type": "code",
   "execution_count": null,
   "id": "8ce0c5c3",
   "metadata": {},
   "outputs": [],
   "source": []
  },
  {
   "cell_type": "markdown",
   "id": "89397f58",
   "metadata": {},
   "source": [
    "model performance on train set"
   ]
  },
  {
   "cell_type": "code",
   "execution_count": 80,
   "id": "d491da42",
   "metadata": {},
   "outputs": [
    {
     "data": {
      "image/png": "[encoded data removed]",
      "text/plain": [
       "<Figure size 432x288 with 2 Axes>"
      ]
     },
     "metadata": {
      "needs_background": "light"
     },
     "output_type": "display_data"
    }
   ],
   "source": [
    "confusion_matrix_sklearn(ab_classifier,X_test,y_test)"
   ]
  },
  {
   "cell_type": "code",
   "execution_count": 81,
   "id": "c43cc18c",
   "metadata": {
    "scrolled": true
   },
   "outputs": [
    {
     "name": "stdout",
     "output_type": "stream",
     "text": [
      "Accuracy: 0.7343014128728415\n",
      "Classification Report:\n",
      "               precision    recall  f1-score   support\n",
      "\n",
      "           0       0.65      0.43      0.52      2539\n",
      "           1       0.76      0.89      0.82      5105\n",
      "\n",
      "    accuracy                           0.73      7644\n",
      "   macro avg       0.70      0.66      0.67      7644\n",
      "weighted avg       0.72      0.73      0.72      7644\n",
      "\n"
     ]
    }
   ],
   "source": [
    "# performance of the test set\n",
    "y_pred = ab_classifier.predict(X_test)\n",
    "\n",
    "# Evaluate the model\n",
    "print(\"Accuracy:\", accuracy_score(y_test, y_pred))\n",
    "print(\"Classification Report:\\n\", classification_report(y_test, y_pred))"
   ]
  },
  {
   "cell_type": "code",
   "execution_count": 104,
   "id": "411e29fd",
   "metadata": {},
   "outputs": [
    {
     "data": {
      "text/html": [
       "<div>\n",
       "<style scoped>\n",
       "    .dataframe tbody tr th:only-of-type {\n",
       "        vertical-align: middle;\n",
       "    }\n",
       "\n",
       "    .dataframe tbody tr th {\n",
       "        vertical-align: top;\n",
       "    }\n",
       "\n",
       "    .dataframe thead th {\n",
       "        text-align: right;\n",
       "    }\n",
       "</style>\n",
       "<table border=\"1\" class=\"dataframe\">\n",
       "  <thead>\n",
       "    <tr style=\"text-align: right;\">\n",
       "      <th></th>\n",
       "      <th>Accuracy</th>\n",
       "      <th>Recall</th>\n",
       "      <th>Precision</th>\n",
       "      <th>F1</th>\n",
       "    </tr>\n",
       "  </thead>\n",
       "  <tbody>\n",
       "    <tr>\n",
       "      <th>0</th>\n",
       "      <td>0.738226</td>\n",
       "      <td>0.887182</td>\n",
       "      <td>0.760688</td>\n",
       "      <td>0.81908</td>\n",
       "    </tr>\n",
       "  </tbody>\n",
       "</table>\n",
       "</div>"
      ],
      "text/plain": [
       "   Accuracy    Recall  Precision       F1\n",
       "0  0.738226  0.887182   0.760688  0.81908"
      ]
     },
     "execution_count": 104,
     "metadata": {},
     "output_type": "execute_result"
    }
   ],
   "source": [
    "ab_classifier_model_train_perf = model_performance_classification_sklearn(ab_classifier,X_train,y_train)\n",
    "ab_classifier_model_train_perf"
   ]
  },
  {
   "cell_type": "code",
   "execution_count": 105,
   "id": "abcbf55b",
   "metadata": {},
   "outputs": [
    {
     "data": {
      "text/html": [
       "<div>\n",
       "<style scoped>\n",
       "    .dataframe tbody tr th:only-of-type {\n",
       "        vertical-align: middle;\n",
       "    }\n",
       "\n",
       "    .dataframe tbody tr th {\n",
       "        vertical-align: top;\n",
       "    }\n",
       "\n",
       "    .dataframe thead th {\n",
       "        text-align: right;\n",
       "    }\n",
       "</style>\n",
       "<table border=\"1\" class=\"dataframe\">\n",
       "  <thead>\n",
       "    <tr style=\"text-align: right;\">\n",
       "      <th></th>\n",
       "      <th>Accuracy</th>\n",
       "      <th>Recall</th>\n",
       "      <th>Precision</th>\n",
       "      <th>F1</th>\n",
       "    </tr>\n",
       "  </thead>\n",
       "  <tbody>\n",
       "    <tr>\n",
       "      <th>0</th>\n",
       "      <td>0.734301</td>\n",
       "      <td>0.885015</td>\n",
       "      <td>0.757799</td>\n",
       "      <td>0.816481</td>\n",
       "    </tr>\n",
       "  </tbody>\n",
       "</table>\n",
       "</div>"
      ],
      "text/plain": [
       "   Accuracy    Recall  Precision        F1\n",
       "0  0.734301  0.885015   0.757799  0.816481"
      ]
     },
     "execution_count": 105,
     "metadata": {},
     "output_type": "execute_result"
    }
   ],
   "source": [
    "ab_classifier_model_test_perf = model_performance_classification_sklearn(ab_classifier,X_test,y_test) \n",
    "ab_classifier_model_test_perf"
   ]
  },
  {
   "cell_type": "markdown",
   "id": "ed25e5f5",
   "metadata": {},
   "source": [
    "the Adaboost classifier achieved an accuracy of around 73.82% on the train set and 73.43% on the test set. \n",
    "\n",
    "The classifier performs better for class 1 in terms of precision, recall, and F1-score, as it has higher values compared to class 0. \n",
    "\n",
    "Class 1 is the majority class, as it has more support than class 0 in both the train and test sets. \n",
    "\n",
    "Overall, the classifier is performing reasonably well, but there may be some room for improvement, especially for class 0 predictions. \n",
    "\n",
    "Further analysis and tuning may be required to enhance the classifier's performance on both classes."
   ]
  },
  {
   "cell_type": "markdown",
   "id": "2769e120",
   "metadata": {},
   "source": [
    "#### Hyperparameter Tuning - AdaBoost Classifier"
   ]
  },
  {
   "cell_type": "code",
   "execution_count": 82,
   "id": "39cd28a9",
   "metadata": {},
   "outputs": [
    {
     "data": {
      "text/plain": [
       "AdaBoostClassifier(base_estimator=DecisionTreeClassifier(class_weight='balanced',\n",
       "                                                         max_depth=1,\n",
       "                                                         random_state=1),\n",
       "                   learning_rate=0.1, n_estimators=90, random_state=1)"
      ]
     },
     "execution_count": 82,
     "metadata": {},
     "output_type": "execute_result"
    }
   ],
   "source": [
    "# Choose the type of classifier.\n",
    "abc_tuned = AdaBoostClassifier(random_state=1)\n",
    "\n",
    "# Grid of parameters to choose from\n",
    "parameters = {\n",
    "    # Let's try different max_depth for base_estimator\n",
    "    \"base_estimator\": [\n",
    "        DecisionTreeClassifier(max_depth=1, class_weight=\"balanced\", random_state=1),\n",
    "        DecisionTreeClassifier(max_depth=2, class_weight=\"balanced\", random_state=1),\n",
    "        DecisionTreeClassifier(max_depth=3, class_weight=\"balanced\", random_state=1),\n",
    "    ],\n",
    "    \"n_estimators\": np.arange(60, 100, 10),\n",
    "    \"learning_rate\": np.arange(0.1, 0.4, 0.1),\n",
    "}\n",
    "\n",
    "# Type of scoring used to compare parameter  combinations\n",
    "acc_scorer = metrics.make_scorer(metrics.f1_score)\n",
    "\n",
    "# Run the grid search\n",
    "grid_obj = GridSearchCV(abc_tuned, parameters, scoring=acc_scorer, cv=5)\n",
    "grid_obj = grid_obj.fit(X_train, y_train)\n",
    "\n",
    "# Set the clf to the best combination of parameters\n",
    "abc_tuned = grid_obj.best_estimator_\n",
    "\n",
    "# Fit the best algorithm to the data.\n",
    "abc_tuned.fit(X_train, y_train)"
   ]
  },
  {
   "cell_type": "markdown",
   "id": "4f4f3ff6",
   "metadata": {},
   "source": [
    "performance on train set"
   ]
  },
  {
   "cell_type": "code",
   "execution_count": 83,
   "id": "418e141f",
   "metadata": {},
   "outputs": [
    {
     "data": {
      "image/png": "[encoded data removed]",
      "text/plain": [
       "<Figure size 432x288 with 2 Axes>"
      ]
     },
     "metadata": {
      "needs_background": "light"
     },
     "output_type": "display_data"
    }
   ],
   "source": [
    "confusion_matrix_sklearn(abc_tuned, X_train, y_train)"
   ]
  },
  {
   "cell_type": "code",
   "execution_count": 84,
   "id": "0859e89d",
   "metadata": {},
   "outputs": [
    {
     "name": "stdout",
     "output_type": "stream",
     "text": [
      "Accuracy: 0.7191634895716529\n",
      "Classification Report:\n",
      "               precision    recall  f1-score   support\n",
      "\n",
      "           0       0.57      0.59      0.58      5923\n",
      "           1       0.79      0.78      0.79     11913\n",
      "\n",
      "    accuracy                           0.72     17836\n",
      "   macro avg       0.68      0.69      0.69     17836\n",
      "weighted avg       0.72      0.72      0.72     17836\n",
      "\n"
     ]
    }
   ],
   "source": [
    "# train performance\n",
    "y_pred1 = abc_tuned.predict(X_train)\n",
    "\n",
    "# Evaluate the model\n",
    "print(\"Accuracy:\", accuracy_score(y_train, y_pred1))\n",
    "print(\"Classification Report:\\n\", classification_report(y_train, y_pred1))"
   ]
  },
  {
   "cell_type": "code",
   "execution_count": null,
   "id": "7e6fe5e8",
   "metadata": {},
   "outputs": [],
   "source": []
  },
  {
   "cell_type": "markdown",
   "id": "aba6c365",
   "metadata": {},
   "source": [
    "performance on test set"
   ]
  },
  {
   "cell_type": "code",
   "execution_count": 85,
   "id": "ac3fc2a4",
   "metadata": {},
   "outputs": [
    {
     "data": {
      "image/png": "[encoded data removed]",
      "text/plain": [
       "<Figure size 432x288 with 2 Axes>"
      ]
     },
     "metadata": {
      "needs_background": "light"
     },
     "output_type": "display_data"
    }
   ],
   "source": [
    "confusion_matrix_sklearn(abc_tuned, X_test, y_test)"
   ]
  },
  {
   "cell_type": "code",
   "execution_count": 86,
   "id": "d919fd18",
   "metadata": {
    "scrolled": true
   },
   "outputs": [
    {
     "name": "stdout",
     "output_type": "stream",
     "text": [
      "Accuracy: 0.716640502354788\n",
      "Classification Report:\n",
      "               precision    recall  f1-score   support\n",
      "\n",
      "           0       0.57      0.59      0.58      2539\n",
      "           1       0.79      0.78      0.79      5105\n",
      "\n",
      "    accuracy                           0.72      7644\n",
      "   macro avg       0.68      0.68      0.68      7644\n",
      "weighted avg       0.72      0.72      0.72      7644\n",
      "\n"
     ]
    }
   ],
   "source": [
    "# performance of the test set\n",
    "y_pred = abc_tuned.predict(X_test)\n",
    "\n",
    "# Evaluate the model\n",
    "print(\"Accuracy:\", accuracy_score(y_test, y_pred))\n",
    "print(\"Classification Report:\\n\", classification_report(y_test, y_pred))"
   ]
  },
  {
   "cell_type": "code",
   "execution_count": 106,
   "id": "41456db1",
   "metadata": {},
   "outputs": [
    {
     "data": {
      "text/html": [
       "<div>\n",
       "<style scoped>\n",
       "    .dataframe tbody tr th:only-of-type {\n",
       "        vertical-align: middle;\n",
       "    }\n",
       "\n",
       "    .dataframe tbody tr th {\n",
       "        vertical-align: top;\n",
       "    }\n",
       "\n",
       "    .dataframe thead th {\n",
       "        text-align: right;\n",
       "    }\n",
       "</style>\n",
       "<table border=\"1\" class=\"dataframe\">\n",
       "  <thead>\n",
       "    <tr style=\"text-align: right;\">\n",
       "      <th></th>\n",
       "      <th>Accuracy</th>\n",
       "      <th>Recall</th>\n",
       "      <th>Precision</th>\n",
       "      <th>F1</th>\n",
       "    </tr>\n",
       "  </thead>\n",
       "  <tbody>\n",
       "    <tr>\n",
       "      <th>0</th>\n",
       "      <td>0.719163</td>\n",
       "      <td>0.781415</td>\n",
       "      <td>0.79469</td>\n",
       "      <td>0.787997</td>\n",
       "    </tr>\n",
       "  </tbody>\n",
       "</table>\n",
       "</div>"
      ],
      "text/plain": [
       "   Accuracy    Recall  Precision        F1\n",
       "0  0.719163  0.781415    0.79469  0.787997"
      ]
     },
     "execution_count": 106,
     "metadata": {},
     "output_type": "execute_result"
    }
   ],
   "source": [
    "abc_tuned_model_train_perf = model_performance_classification_sklearn(abc_tuned,X_train,y_train) \n",
    "abc_tuned_model_train_perf"
   ]
  },
  {
   "cell_type": "code",
   "execution_count": 107,
   "id": "922db625",
   "metadata": {},
   "outputs": [
    {
     "data": {
      "text/html": [
       "<div>\n",
       "<style scoped>\n",
       "    .dataframe tbody tr th:only-of-type {\n",
       "        vertical-align: middle;\n",
       "    }\n",
       "\n",
       "    .dataframe tbody tr th {\n",
       "        vertical-align: top;\n",
       "    }\n",
       "\n",
       "    .dataframe thead th {\n",
       "        text-align: right;\n",
       "    }\n",
       "</style>\n",
       "<table border=\"1\" class=\"dataframe\">\n",
       "  <thead>\n",
       "    <tr style=\"text-align: right;\">\n",
       "      <th></th>\n",
       "      <th>Accuracy</th>\n",
       "      <th>Recall</th>\n",
       "      <th>Precision</th>\n",
       "      <th>F1</th>\n",
       "    </tr>\n",
       "  </thead>\n",
       "  <tbody>\n",
       "    <tr>\n",
       "      <th>0</th>\n",
       "      <td>0.716641</td>\n",
       "      <td>0.781587</td>\n",
       "      <td>0.79151</td>\n",
       "      <td>0.786517</td>\n",
       "    </tr>\n",
       "  </tbody>\n",
       "</table>\n",
       "</div>"
      ],
      "text/plain": [
       "   Accuracy    Recall  Precision        F1\n",
       "0  0.716641  0.781587    0.79151  0.786517"
      ]
     },
     "execution_count": 107,
     "metadata": {},
     "output_type": "execute_result"
    }
   ],
   "source": [
    "abc_tuned_model_test_perf = model_performance_classification_sklearn(abc_tuned,X_test,y_test) \n",
    "abc_tuned_model_test_perf"
   ]
  },
  {
   "cell_type": "markdown",
   "id": "e1819139",
   "metadata": {},
   "source": [
    "The tuned AdaBoostClassifier is achieving similar performance on both the train and test sets\n",
    "\n",
    "but it dosent seem to help much as its almost the same as before the hyperparameter tuning\n"
   ]
  },
  {
   "cell_type": "code",
   "execution_count": null,
   "id": "2e3332f4",
   "metadata": {},
   "outputs": [],
   "source": []
  },
  {
   "cell_type": "markdown",
   "id": "331b0ec7",
   "metadata": {},
   "source": []
  },
  {
   "cell_type": "code",
   "execution_count": 87,
   "id": "682215e4",
   "metadata": {},
   "outputs": [
    {
     "data": {
      "text/plain": [
       "{'total': 16951066624,\n",
       " 'available': 10060615680,\n",
       " 'percent': 40.6,\n",
       " 'used': 6890450944,\n",
       " 'free': 10060615680}"
      ]
     },
     "execution_count": 87,
     "metadata": {},
     "output_type": "execute_result"
    }
   ],
   "source": [
    "#!/usr/bin/env python\n",
    "import psutil\n",
    "# gives a single float value\n",
    "psutil.cpu_percent()\n",
    "# gives an object with many fields\n",
    "psutil.virtual_memory()\n",
    "# you can convert that object to a dictionary \n",
    "dict(psutil.virtual_memory()._asdict())"
   ]
  },
  {
   "cell_type": "code",
   "execution_count": null,
   "id": "9a07a8e3",
   "metadata": {},
   "outputs": [],
   "source": []
  },
  {
   "cell_type": "markdown",
   "id": "61172019",
   "metadata": {},
   "source": [
    "### Gradient Boosting Classifier"
   ]
  },
  {
   "cell_type": "code",
   "execution_count": 88,
   "id": "ec3123bb",
   "metadata": {},
   "outputs": [
    {
     "data": {
      "text/plain": [
       "GradientBoostingClassifier(random_state=1)"
      ]
     },
     "execution_count": 88,
     "metadata": {},
     "output_type": "execute_result"
    }
   ],
   "source": [
    "gb_classifier = GradientBoostingClassifier(random_state=1)\n",
    "gb_classifier.fit(X_train, y_train)\n"
   ]
  },
  {
   "cell_type": "markdown",
   "id": "9906ae66",
   "metadata": {},
   "source": [
    "model performance on train set"
   ]
  },
  {
   "cell_type": "code",
   "execution_count": 89,
   "id": "2e6f81f9",
   "metadata": {},
   "outputs": [
    {
     "data": {
      "image/png": "[encoded data removed]",
      "text/plain": [
       "<Figure size 432x288 with 2 Axes>"
      ]
     },
     "metadata": {
      "needs_background": "light"
     },
     "output_type": "display_data"
    }
   ],
   "source": [
    "confusion_matrix_sklearn(gb_classifier,X_train,y_train)"
   ]
  },
  {
   "cell_type": "code",
   "execution_count": 90,
   "id": "c3a14889",
   "metadata": {},
   "outputs": [
    {
     "name": "stdout",
     "output_type": "stream",
     "text": [
      "Accuracy: 0.7588024220677282\n",
      "Classification Report:\n",
      "               precision    recall  f1-score   support\n",
      "\n",
      "           0       0.68      0.51      0.58      5923\n",
      "           1       0.78      0.88      0.83     11913\n",
      "\n",
      "    accuracy                           0.76     17836\n",
      "   macro avg       0.73      0.70      0.71     17836\n",
      "weighted avg       0.75      0.76      0.75     17836\n",
      "\n"
     ]
    }
   ],
   "source": [
    "# train performance\n",
    "y_pred1 = gb_classifier.predict(X_train)\n",
    "\n",
    "# Evaluate the model\n",
    "print(\"Accuracy:\", accuracy_score(y_train, y_pred1))\n",
    "print(\"Classification Report:\\n\", classification_report(y_train, y_pred1))"
   ]
  },
  {
   "cell_type": "markdown",
   "id": "7a5e85e4",
   "metadata": {},
   "source": [
    "model performance on test set"
   ]
  },
  {
   "cell_type": "code",
   "execution_count": 91,
   "id": "3ef455fc",
   "metadata": {},
   "outputs": [
    {
     "data": {
      "image/png": "[encoded data removed]",
      "text/plain": [
       "<Figure size 432x288 with 2 Axes>"
      ]
     },
     "metadata": {
      "needs_background": "light"
     },
     "output_type": "display_data"
    }
   ],
   "source": [
    "confusion_matrix_sklearn(gb_classifier,X_test,y_test)"
   ]
  },
  {
   "cell_type": "code",
   "execution_count": 92,
   "id": "68ce70ab",
   "metadata": {},
   "outputs": [
    {
     "name": "stdout",
     "output_type": "stream",
     "text": [
      "Accuracy: 0.7447671376242805\n",
      "Classification Report:\n",
      "               precision    recall  f1-score   support\n",
      "\n",
      "           0       0.66      0.48      0.56      2539\n",
      "           1       0.77      0.88      0.82      5105\n",
      "\n",
      "    accuracy                           0.74      7644\n",
      "   macro avg       0.72      0.68      0.69      7644\n",
      "weighted avg       0.73      0.74      0.73      7644\n",
      "\n"
     ]
    }
   ],
   "source": [
    "# performance of the test set\n",
    "y_pred = gb_classifier.predict(X_test)\n",
    "\n",
    "# Evaluate the model\n",
    "print(\"Accuracy:\", accuracy_score(y_test, y_pred))\n",
    "print(\"Classification Report:\\n\", classification_report(y_test, y_pred))"
   ]
  },
  {
   "cell_type": "code",
   "execution_count": 108,
   "id": "7d7ad3d0",
   "metadata": {},
   "outputs": [
    {
     "data": {
      "text/html": [
       "<div>\n",
       "<style scoped>\n",
       "    .dataframe tbody tr th:only-of-type {\n",
       "        vertical-align: middle;\n",
       "    }\n",
       "\n",
       "    .dataframe tbody tr th {\n",
       "        vertical-align: top;\n",
       "    }\n",
       "\n",
       "    .dataframe thead th {\n",
       "        text-align: right;\n",
       "    }\n",
       "</style>\n",
       "<table border=\"1\" class=\"dataframe\">\n",
       "  <thead>\n",
       "    <tr style=\"text-align: right;\">\n",
       "      <th></th>\n",
       "      <th>Accuracy</th>\n",
       "      <th>Recall</th>\n",
       "      <th>Precision</th>\n",
       "      <th>F1</th>\n",
       "    </tr>\n",
       "  </thead>\n",
       "  <tbody>\n",
       "    <tr>\n",
       "      <th>0</th>\n",
       "      <td>0.758802</td>\n",
       "      <td>0.88374</td>\n",
       "      <td>0.783042</td>\n",
       "      <td>0.830349</td>\n",
       "    </tr>\n",
       "  </tbody>\n",
       "</table>\n",
       "</div>"
      ],
      "text/plain": [
       "   Accuracy   Recall  Precision        F1\n",
       "0  0.758802  0.88374   0.783042  0.830349"
      ]
     },
     "execution_count": 108,
     "metadata": {},
     "output_type": "execute_result"
    }
   ],
   "source": [
    "gb_classifier_model_train_perf = model_performance_classification_sklearn(gb_classifier,X_train,y_train) \n",
    "gb_classifier_model_train_perf"
   ]
  },
  {
   "cell_type": "code",
   "execution_count": 109,
   "id": "933b540f",
   "metadata": {},
   "outputs": [
    {
     "data": {
      "text/html": [
       "<div>\n",
       "<style scoped>\n",
       "    .dataframe tbody tr th:only-of-type {\n",
       "        vertical-align: middle;\n",
       "    }\n",
       "\n",
       "    .dataframe tbody tr th {\n",
       "        vertical-align: top;\n",
       "    }\n",
       "\n",
       "    .dataframe thead th {\n",
       "        text-align: right;\n",
       "    }\n",
       "</style>\n",
       "<table border=\"1\" class=\"dataframe\">\n",
       "  <thead>\n",
       "    <tr style=\"text-align: right;\">\n",
       "      <th></th>\n",
       "      <th>Accuracy</th>\n",
       "      <th>Recall</th>\n",
       "      <th>Precision</th>\n",
       "      <th>F1</th>\n",
       "    </tr>\n",
       "  </thead>\n",
       "  <tbody>\n",
       "    <tr>\n",
       "      <th>0</th>\n",
       "      <td>0.744767</td>\n",
       "      <td>0.876004</td>\n",
       "      <td>0.772366</td>\n",
       "      <td>0.820927</td>\n",
       "    </tr>\n",
       "  </tbody>\n",
       "</table>\n",
       "</div>"
      ],
      "text/plain": [
       "   Accuracy    Recall  Precision        F1\n",
       "0  0.744767  0.876004   0.772366  0.820927"
      ]
     },
     "execution_count": 109,
     "metadata": {},
     "output_type": "execute_result"
    }
   ],
   "source": [
    "gb_classifier_model_test_perf = model_performance_classification_sklearn(gb_classifier,X_test,y_test) \n",
    "gb_classifier_model_test_perf"
   ]
  },
  {
   "cell_type": "markdown",
   "id": "45f6ec3f",
   "metadata": {},
   "source": [
    " the classifier achieves relatively good accuracy and F1-score on both the training and test sets\n",
    " \n",
    "this indicates that it is performing reasonably well in predicting visa certification and denial."
   ]
  },
  {
   "cell_type": "code",
   "execution_count": null,
   "id": "ce150518",
   "metadata": {},
   "outputs": [],
   "source": []
  },
  {
   "cell_type": "markdown",
   "id": "814576b9",
   "metadata": {},
   "source": [
    "#### Hyperparameter Tuning - Gradient Boosting Classifier"
   ]
  },
  {
   "cell_type": "code",
   "execution_count": null,
   "id": "f97ee981",
   "metadata": {},
   "outputs": [],
   "source": []
  },
  {
   "cell_type": "code",
   "execution_count": 93,
   "id": "2e7e0d2c",
   "metadata": {},
   "outputs": [
    {
     "data": {
      "text/plain": [
       "GradientBoostingClassifier(init=AdaBoostClassifier(random_state=1),\n",
       "                           max_features=0.8, n_estimators=200, random_state=1,\n",
       "                           subsample=1)"
      ]
     },
     "execution_count": 93,
     "metadata": {},
     "output_type": "execute_result"
    }
   ],
   "source": [
    "# Choose the type of classifier.\n",
    "gbc_tuned = GradientBoostingClassifier(\n",
    "    init=AdaBoostClassifier(random_state=1), random_state=1\n",
    ")\n",
    "\n",
    "# Grid of parameters to choose from\n",
    "parameters = {\n",
    "    \"n_estimators\": [200, 250],\n",
    "    \"subsample\": [0.9, 1],\n",
    "    \"max_features\": [0.8, 0.9],\n",
    "    \"learning_rate\": [0.1, 0.21, 0.1],\n",
    "}\n",
    "\n",
    "# Type of scoring used to compare parameter combinations\n",
    "acc_scorer = metrics.make_scorer(metrics.f1_score)\n",
    "\n",
    "# Run the grid search\n",
    "## Complete the code to run grid search with cv = 5\n",
    "grid_obj = GridSearchCV(gbc_tuned, parameters, scoring=acc_scorer,cv=5) \n",
    "\n",
    "## Let's fit the grid_obj on train data\n",
    "grid_obj = grid_obj.fit(X_train, y_train)\n",
    "\n",
    "# Set the clf to the best combination of parameters\n",
    "gbc_tuned = grid_obj.best_estimator_\n",
    "\n",
    "# Fit the best algorithm to the data.\n",
    "gbc_tuned.fit(X_train, y_train)"
   ]
  },
  {
   "cell_type": "markdown",
   "id": "1acbfb72",
   "metadata": {},
   "source": [
    "model performance on train set"
   ]
  },
  {
   "cell_type": "code",
   "execution_count": 94,
   "id": "f6b49459",
   "metadata": {},
   "outputs": [
    {
     "data": {
      "image/png": "[encoded data removed]",
      "text/plain": [
       "<Figure size 432x288 with 2 Axes>"
      ]
     },
     "metadata": {
      "needs_background": "light"
     },
     "output_type": "display_data"
    }
   ],
   "source": [
    "confusion_matrix_sklearn(gbc_tuned,X_train,y_train)"
   ]
  },
  {
   "cell_type": "code",
   "execution_count": 95,
   "id": "9f7e43e6",
   "metadata": {},
   "outputs": [
    {
     "name": "stdout",
     "output_type": "stream",
     "text": [
      "Accuracy: 0.7640165956492487\n",
      "Classification Report:\n",
      "               precision    recall  f1-score   support\n",
      "\n",
      "           0       0.69      0.53      0.60      5923\n",
      "           1       0.79      0.88      0.83     11913\n",
      "\n",
      "    accuracy                           0.76     17836\n",
      "   macro avg       0.74      0.70      0.71     17836\n",
      "weighted avg       0.76      0.76      0.75     17836\n",
      "\n"
     ]
    }
   ],
   "source": [
    "# train performance\n",
    "y_pred1 = gbc_tuned.predict(X_train)\n",
    "\n",
    "# Evaluate the model\n",
    "print(\"Accuracy:\", accuracy_score(y_train, y_pred1))\n",
    "print(\"Classification Report:\\n\", classification_report(y_train, y_pred1))"
   ]
  },
  {
   "cell_type": "markdown",
   "id": "bf279a8b",
   "metadata": {},
   "source": [
    "model performance on test set"
   ]
  },
  {
   "cell_type": "code",
   "execution_count": 96,
   "id": "886a0b1b",
   "metadata": {},
   "outputs": [
    {
     "data": {
      "image/png": "[encoded data removed]",
      "text/plain": [
       "<Figure size 432x288 with 2 Axes>"
      ]
     },
     "metadata": {
      "needs_background": "light"
     },
     "output_type": "display_data"
    }
   ],
   "source": [
    "confusion_matrix_sklearn(gbc_tuned,X_test,y_test)"
   ]
  },
  {
   "cell_type": "code",
   "execution_count": 97,
   "id": "e78fe47b",
   "metadata": {
    "scrolled": true
   },
   "outputs": [
    {
     "name": "stdout",
     "output_type": "stream",
     "text": [
      "Accuracy: 0.7434589220303506\n",
      "Classification Report:\n",
      "               precision    recall  f1-score   support\n",
      "\n",
      "           0       0.65      0.49      0.56      2539\n",
      "           1       0.77      0.87      0.82      5105\n",
      "\n",
      "    accuracy                           0.74      7644\n",
      "   macro avg       0.71      0.68      0.69      7644\n",
      "weighted avg       0.73      0.74      0.73      7644\n",
      "\n"
     ]
    }
   ],
   "source": [
    "# performance of the test set\n",
    "y_pred = gbc_tuned.predict(X_test)\n",
    "\n",
    "# Evaluate the model\n",
    "print(\"Accuracy:\", accuracy_score(y_test, y_pred))\n",
    "print(\"Classification Report:\\n\", classification_report(y_test, y_pred))"
   ]
  },
  {
   "cell_type": "code",
   "execution_count": 110,
   "id": "bffe67fc",
   "metadata": {},
   "outputs": [
    {
     "data": {
      "text/html": [
       "<div>\n",
       "<style scoped>\n",
       "    .dataframe tbody tr th:only-of-type {\n",
       "        vertical-align: middle;\n",
       "    }\n",
       "\n",
       "    .dataframe tbody tr th {\n",
       "        vertical-align: top;\n",
       "    }\n",
       "\n",
       "    .dataframe thead th {\n",
       "        text-align: right;\n",
       "    }\n",
       "</style>\n",
       "<table border=\"1\" class=\"dataframe\">\n",
       "  <thead>\n",
       "    <tr style=\"text-align: right;\">\n",
       "      <th></th>\n",
       "      <th>Accuracy</th>\n",
       "      <th>Recall</th>\n",
       "      <th>Precision</th>\n",
       "      <th>F1</th>\n",
       "    </tr>\n",
       "  </thead>\n",
       "  <tbody>\n",
       "    <tr>\n",
       "      <th>0</th>\n",
       "      <td>0.764017</td>\n",
       "      <td>0.882649</td>\n",
       "      <td>0.789059</td>\n",
       "      <td>0.833234</td>\n",
       "    </tr>\n",
       "  </tbody>\n",
       "</table>\n",
       "</div>"
      ],
      "text/plain": [
       "   Accuracy    Recall  Precision        F1\n",
       "0  0.764017  0.882649   0.789059  0.833234"
      ]
     },
     "execution_count": 110,
     "metadata": {},
     "output_type": "execute_result"
    }
   ],
   "source": [
    "gbc_tuned_model_train_perf = model_performance_classification_sklearn(gbc_tuned,X_train,y_train) \n",
    "gbc_tuned_model_train_perf"
   ]
  },
  {
   "cell_type": "code",
   "execution_count": 111,
   "id": "1e259aa8",
   "metadata": {},
   "outputs": [
    {
     "data": {
      "text/html": [
       "<div>\n",
       "<style scoped>\n",
       "    .dataframe tbody tr th:only-of-type {\n",
       "        vertical-align: middle;\n",
       "    }\n",
       "\n",
       "    .dataframe tbody tr th {\n",
       "        vertical-align: top;\n",
       "    }\n",
       "\n",
       "    .dataframe thead th {\n",
       "        text-align: right;\n",
       "    }\n",
       "</style>\n",
       "<table border=\"1\" class=\"dataframe\">\n",
       "  <thead>\n",
       "    <tr style=\"text-align: right;\">\n",
       "      <th></th>\n",
       "      <th>Accuracy</th>\n",
       "      <th>Recall</th>\n",
       "      <th>Precision</th>\n",
       "      <th>F1</th>\n",
       "    </tr>\n",
       "  </thead>\n",
       "  <tbody>\n",
       "    <tr>\n",
       "      <th>0</th>\n",
       "      <td>0.743459</td>\n",
       "      <td>0.871303</td>\n",
       "      <td>0.773296</td>\n",
       "      <td>0.819379</td>\n",
       "    </tr>\n",
       "  </tbody>\n",
       "</table>\n",
       "</div>"
      ],
      "text/plain": [
       "   Accuracy    Recall  Precision        F1\n",
       "0  0.743459  0.871303   0.773296  0.819379"
      ]
     },
     "execution_count": 111,
     "metadata": {},
     "output_type": "execute_result"
    }
   ],
   "source": [
    "gbc_tuned_model_test_perf = model_performance_classification_sklearn(gbc_tuned,X_test,y_test) \n",
    "gbc_tuned_model_test_perf"
   ]
  },
  {
   "cell_type": "markdown",
   "id": "3d811892",
   "metadata": {},
   "source": [
    "After tuning there is not much change in the model performance as compared to the model with default values of hyperparameters.\n",
    "\n",
    "it seems to be a good model"
   ]
  },
  {
   "cell_type": "code",
   "execution_count": null,
   "id": "926b99c0",
   "metadata": {},
   "outputs": [],
   "source": []
  },
  {
   "cell_type": "markdown",
   "id": "593d606f",
   "metadata": {},
   "source": [
    "### model performance comparison and conclusion"
   ]
  },
  {
   "cell_type": "code",
   "execution_count": 115,
   "id": "e33e98d6",
   "metadata": {},
   "outputs": [],
   "source": [
    "# training performance comparison\n",
    "\n",
    "models_train_comp_df = pd.concat(\n",
    "    [\n",
    "        decision_tree_perf_train.T,\n",
    "        dtree_tuned_model_train_perf.T,\n",
    "        rf_estimator_model_train_perf.T,\n",
    "        rf_tuned_model_train_perf.T,\n",
    "        ab_classifier_model_train_perf.T,\n",
    "        abc_tuned_model_train_perf.T,\n",
    "        gb_classifier_model_train_perf.T,\n",
    "        gbc_tuned_model_train_perf.T,\n",
    "    ],\n",
    "    axis=1,\n",
    ")\n",
    "models_train_comp_df.columns = [\n",
    "    \"Decision Tree\",\n",
    "    \"Tuned Decision Tree\",\n",
    "    \"Random Forest\",\n",
    "    \"Tuned Random Forest\",\n",
    "    \"Adaboost Classifier\",\n",
    "    \"Tuned Adaboost Classifier\",\n",
    "    \"Gradient Boost Classifier\",\n",
    "    \"Tuned Gradient Boost Classifier\",\n",
    "]\n"
   ]
  },
  {
   "cell_type": "code",
   "execution_count": 113,
   "id": "5692094d",
   "metadata": {},
   "outputs": [],
   "source": [
    "# testing performance comparison\n",
    "\n",
    "models_test_comp_df = pd.concat(\n",
    "    [\n",
    "        decision_tree_perf_test.T,\n",
    "        dtree_tuned_model_test_perf.T,\n",
    "        rf_estimator_model_test_perf.T,\n",
    "        rf_tuned_model_test_perf.T,\n",
    "        ab_classifier_model_test_perf.T,\n",
    "        abc_tuned_model_test_perf.T,\n",
    "        gb_classifier_model_test_perf.T,\n",
    "        gbc_tuned_model_test_perf.T,\n",
    "    ],\n",
    "    axis=1,\n",
    ")\n",
    "models_test_comp_df.columns = [\n",
    "    \"Decision Tree\",\n",
    "    \"Tuned Decision Tree\",\n",
    "    \"Random Forest\",\n",
    "    \"Tuned Random Forest\",\n",
    "    \"Adaboost Classifier\",\n",
    "    \"Tuned Adaboost Classifier\",\n",
    "    \"Gradient Boost Classifier\",\n",
    "    \"Tuned Gradient Boost Classifier\",\n",
    "]\n"
   ]
  },
  {
   "cell_type": "code",
   "execution_count": 116,
   "id": "08318ed3",
   "metadata": {},
   "outputs": [
    {
     "name": "stdout",
     "output_type": "stream",
     "text": [
      "Training performance comparison:\n"
     ]
    },
    {
     "data": {
      "text/html": [
       "<div>\n",
       "<style scoped>\n",
       "    .dataframe tbody tr th:only-of-type {\n",
       "        vertical-align: middle;\n",
       "    }\n",
       "\n",
       "    .dataframe tbody tr th {\n",
       "        vertical-align: top;\n",
       "    }\n",
       "\n",
       "    .dataframe thead th {\n",
       "        text-align: right;\n",
       "    }\n",
       "</style>\n",
       "<table border=\"1\" class=\"dataframe\">\n",
       "  <thead>\n",
       "    <tr style=\"text-align: right;\">\n",
       "      <th></th>\n",
       "      <th>Decision Tree</th>\n",
       "      <th>Tuned Decision Tree</th>\n",
       "      <th>Random Forest</th>\n",
       "      <th>Tuned Random Forest</th>\n",
       "      <th>Adaboost Classifier</th>\n",
       "      <th>Tuned Adaboost Classifier</th>\n",
       "      <th>Gradient Boost Classifier</th>\n",
       "      <th>Tuned Gradient Boost Classifier</th>\n",
       "    </tr>\n",
       "  </thead>\n",
       "  <tbody>\n",
       "    <tr>\n",
       "      <th>Accuracy</th>\n",
       "      <td>1.0</td>\n",
       "      <td>0.712548</td>\n",
       "      <td>0.999944</td>\n",
       "      <td>0.769119</td>\n",
       "      <td>0.738226</td>\n",
       "      <td>0.719163</td>\n",
       "      <td>0.758802</td>\n",
       "      <td>0.764017</td>\n",
       "    </tr>\n",
       "    <tr>\n",
       "      <th>Recall</th>\n",
       "      <td>1.0</td>\n",
       "      <td>0.931923</td>\n",
       "      <td>0.999916</td>\n",
       "      <td>0.918660</td>\n",
       "      <td>0.887182</td>\n",
       "      <td>0.781415</td>\n",
       "      <td>0.883740</td>\n",
       "      <td>0.882649</td>\n",
       "    </tr>\n",
       "    <tr>\n",
       "      <th>Precision</th>\n",
       "      <td>1.0</td>\n",
       "      <td>0.720067</td>\n",
       "      <td>1.000000</td>\n",
       "      <td>0.776556</td>\n",
       "      <td>0.760688</td>\n",
       "      <td>0.794690</td>\n",
       "      <td>0.783042</td>\n",
       "      <td>0.789059</td>\n",
       "    </tr>\n",
       "    <tr>\n",
       "      <th>F1</th>\n",
       "      <td>1.0</td>\n",
       "      <td>0.812411</td>\n",
       "      <td>0.999958</td>\n",
       "      <td>0.841652</td>\n",
       "      <td>0.819080</td>\n",
       "      <td>0.787997</td>\n",
       "      <td>0.830349</td>\n",
       "      <td>0.833234</td>\n",
       "    </tr>\n",
       "  </tbody>\n",
       "</table>\n",
       "</div>"
      ],
      "text/plain": [
       "           Decision Tree  Tuned Decision Tree  Random Forest  \\\n",
       "Accuracy             1.0             0.712548       0.999944   \n",
       "Recall               1.0             0.931923       0.999916   \n",
       "Precision            1.0             0.720067       1.000000   \n",
       "F1                   1.0             0.812411       0.999958   \n",
       "\n",
       "           Tuned Random Forest  Adaboost Classifier  \\\n",
       "Accuracy              0.769119             0.738226   \n",
       "Recall                0.918660             0.887182   \n",
       "Precision             0.776556             0.760688   \n",
       "F1                    0.841652             0.819080   \n",
       "\n",
       "           Tuned Adaboost Classifier  Gradient Boost Classifier  \\\n",
       "Accuracy                    0.719163                   0.758802   \n",
       "Recall                      0.781415                   0.883740   \n",
       "Precision                   0.794690                   0.783042   \n",
       "F1                          0.787997                   0.830349   \n",
       "\n",
       "           Tuned Gradient Boost Classifier  \n",
       "Accuracy                          0.764017  \n",
       "Recall                            0.882649  \n",
       "Precision                         0.789059  \n",
       "F1                                0.833234  "
      ]
     },
     "execution_count": 116,
     "metadata": {},
     "output_type": "execute_result"
    }
   ],
   "source": [
    "print(\"Training performance comparison:\")\n",
    "models_train_comp_df"
   ]
  },
  {
   "cell_type": "code",
   "execution_count": 114,
   "id": "e076258b",
   "metadata": {
    "scrolled": true
   },
   "outputs": [
    {
     "name": "stdout",
     "output_type": "stream",
     "text": [
      "Testing performance comparison:\n"
     ]
    },
    {
     "data": {
      "text/html": [
       "<div>\n",
       "<style scoped>\n",
       "    .dataframe tbody tr th:only-of-type {\n",
       "        vertical-align: middle;\n",
       "    }\n",
       "\n",
       "    .dataframe tbody tr th {\n",
       "        vertical-align: top;\n",
       "    }\n",
       "\n",
       "    .dataframe thead th {\n",
       "        text-align: right;\n",
       "    }\n",
       "</style>\n",
       "<table border=\"1\" class=\"dataframe\">\n",
       "  <thead>\n",
       "    <tr style=\"text-align: right;\">\n",
       "      <th></th>\n",
       "      <th>Decision Tree</th>\n",
       "      <th>Tuned Decision Tree</th>\n",
       "      <th>Random Forest</th>\n",
       "      <th>Tuned Random Forest</th>\n",
       "      <th>Adaboost Classifier</th>\n",
       "      <th>Tuned Adaboost Classifier</th>\n",
       "      <th>Gradient Boost Classifier</th>\n",
       "      <th>Tuned Gradient Boost Classifier</th>\n",
       "    </tr>\n",
       "  </thead>\n",
       "  <tbody>\n",
       "    <tr>\n",
       "      <th>Accuracy</th>\n",
       "      <td>0.664835</td>\n",
       "      <td>0.706567</td>\n",
       "      <td>0.721088</td>\n",
       "      <td>0.738095</td>\n",
       "      <td>0.734301</td>\n",
       "      <td>0.716641</td>\n",
       "      <td>0.744767</td>\n",
       "      <td>0.743459</td>\n",
       "    </tr>\n",
       "    <tr>\n",
       "      <th>Recall</th>\n",
       "      <td>0.742801</td>\n",
       "      <td>0.930852</td>\n",
       "      <td>0.840744</td>\n",
       "      <td>0.898923</td>\n",
       "      <td>0.885015</td>\n",
       "      <td>0.781587</td>\n",
       "      <td>0.876004</td>\n",
       "      <td>0.871303</td>\n",
       "    </tr>\n",
       "    <tr>\n",
       "      <th>Precision</th>\n",
       "      <td>0.752232</td>\n",
       "      <td>0.715447</td>\n",
       "      <td>0.764926</td>\n",
       "      <td>0.755391</td>\n",
       "      <td>0.757799</td>\n",
       "      <td>0.791510</td>\n",
       "      <td>0.772366</td>\n",
       "      <td>0.773296</td>\n",
       "    </tr>\n",
       "    <tr>\n",
       "      <th>F1</th>\n",
       "      <td>0.747487</td>\n",
       "      <td>0.809058</td>\n",
       "      <td>0.801045</td>\n",
       "      <td>0.820930</td>\n",
       "      <td>0.816481</td>\n",
       "      <td>0.786517</td>\n",
       "      <td>0.820927</td>\n",
       "      <td>0.819379</td>\n",
       "    </tr>\n",
       "  </tbody>\n",
       "</table>\n",
       "</div>"
      ],
      "text/plain": [
       "           Decision Tree  Tuned Decision Tree  Random Forest  \\\n",
       "Accuracy        0.664835             0.706567       0.721088   \n",
       "Recall          0.742801             0.930852       0.840744   \n",
       "Precision       0.752232             0.715447       0.764926   \n",
       "F1              0.747487             0.809058       0.801045   \n",
       "\n",
       "           Tuned Random Forest  Adaboost Classifier  \\\n",
       "Accuracy              0.738095             0.734301   \n",
       "Recall                0.898923             0.885015   \n",
       "Precision             0.755391             0.757799   \n",
       "F1                    0.820930             0.816481   \n",
       "\n",
       "           Tuned Adaboost Classifier  Gradient Boost Classifier  \\\n",
       "Accuracy                    0.716641                   0.744767   \n",
       "Recall                      0.781587                   0.876004   \n",
       "Precision                   0.791510                   0.772366   \n",
       "F1                          0.786517                   0.820927   \n",
       "\n",
       "           Tuned Gradient Boost Classifier  \n",
       "Accuracy                          0.743459  \n",
       "Recall                            0.871303  \n",
       "Precision                         0.773296  \n",
       "F1                                0.819379  "
      ]
     },
     "execution_count": 114,
     "metadata": {},
     "output_type": "execute_result"
    }
   ],
   "source": [
    "print(\"Testing performance comparison:\")\n",
    "models_test_comp_df"
   ]
  },
  {
   "cell_type": "markdown",
   "id": "e6802274",
   "metadata": {},
   "source": [
    "gradient boost classifier and tuned random forest classifier seem to be good models "
   ]
  },
  {
   "cell_type": "markdown",
   "id": "e67e07a3",
   "metadata": {},
   "source": [
    "although since Since visa certification involves making important decisions about granting visas to employees, we need to be cautious about both false positives (approving visas for employees who shouldn't be eligible) and false negatives (rejecting visas for eligible employees)."
   ]
  },
  {
   "cell_type": "markdown",
   "id": "3e537726",
   "metadata": {},
   "source": [
    "so based on the provided test performance comparison, the model with the highest overall F1-score is the \"Tuned Random Forest\" classifier, with an F1-score of approximately 0.8209. "
   ]
  },
  {
   "cell_type": "markdown",
   "id": "df7c9a71",
   "metadata": {},
   "source": [
    "#### Features of the final model"
   ]
  },
  {
   "cell_type": "code",
   "execution_count": 120,
   "id": "47d4fb08",
   "metadata": {},
   "outputs": [
    {
     "data": {
      "image/png": "[encoded data removed]",
      "text/plain": [
       "<Figure size 864x864 with 1 Axes>"
      ]
     },
     "metadata": {
      "needs_background": "light"
     },
     "output_type": "display_data"
    }
   ],
   "source": [
    "feature_names = X_train.columns\n",
    "importances = rf_tuned.feature_importances_\n",
    "indices = np.argsort(importances)\n",
    "\n",
    "plt.figure(figsize=(12, 12))\n",
    "plt.title(\"Feature Importances\")\n",
    "plt.barh(range(len(indices)), importances[indices], color=\"lightblue\", align=\"center\")\n",
    "plt.yticks(range(len(indices)), [feature_names[i] for i in indices])\n",
    "plt.xlabel(\"Relative Importance\")\n",
    "plt.show()"
   ]
  },
  {
   "cell_type": "markdown",
   "id": "192b1562",
   "metadata": {},
   "source": [
    "from the important features in the model\n",
    "\n",
    "the top three important features to look for while certifying a visa are -Education of the employee, Job experience, and Prevailing Wage."
   ]
  },
  {
   "cell_type": "markdown",
   "id": "9f909028",
   "metadata": {},
   "source": [
    "#### INSIGHTS"
   ]
  },
  {
   "cell_type": "markdown",
   "id": "48fdb72a",
   "metadata": {},
   "source": [
    "**The profile of the applicants for whose visa can be certified:**\n",
    "\n",
    "**Primary information:**\n",
    "- `Education level` - At least has a Bachelor's degree - Master's and doctorate are preferred.\n",
    "- `Job Experience` - has job experience. \n",
    "- `Prevailing wage` - has a high prevailing wage most likely yearly (The median prevailing wage of the employees for whom the visa got certified is around 72k. )\n",
    "- `Continent`-  it has been observed that applicants from Europe, Africa, and Asia have higher chances of visa certification.\n",
    "\n"
   ]
  },
  {
   "cell_type": "markdown",
   "id": "1158eb62",
   "metadata": {},
   "source": [
    "**The profile of the applicants for whom the visa status can be denied:**\n",
    "\n",
    "**Primary information to look at:**\n",
    "- `Education level` - high school degree.\n",
    "- `Job Experience` - Doesn't have any job experience. \n",
    "- `Prevailing wage and unit of wage` - applicants with hourly units of wage (The median prevailing wage of the employees for whom the visa got certified is around 65k.)\n",
    "- `Continent` - it has been observed that applicants from South America, North America, and Oceania have higher chances of visa applications getting denied."
   ]
  },
  {
   "cell_type": "code",
   "execution_count": null,
   "id": "4cd96438",
   "metadata": {},
   "outputs": [],
   "source": []
  },
  {
   "cell_type": "code",
   "execution_count": null,
   "id": "cb440ce6",
   "metadata": {},
   "outputs": [],
   "source": []
  }
 ],
 "metadata": {
  "kernelspec": {
   "display_name": "Python 3",
   "language": "python",
   "name": "python3"
  },
  "language_info": {
   "codemirror_mode": {
    "name": "ipython",
    "version": 3
   },
   "file_extension": ".py",
   "mimetype": "text/x-python",
   "name": "python",
   "nbconvert_exporter": "python",
   "pygments_lexer": "ipython3",
   "version": "3.8.8"
  }
 },
 "nbformat": 4,
 "nbformat_minor": 5
}
